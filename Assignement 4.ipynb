{
 "cells": [
  {
   "cell_type": "code",
   "execution_count": 34,
   "metadata": {
    "ExecuteTime": {
     "start_time": "2023-04-26T20:07:38.073400Z",
     "end_time": "2023-04-26T20:07:38.173089Z"
    }
   },
   "outputs": [],
   "source": [
    "import numpy as np\n",
    "import pandas as pd\n",
    "import plotly.graph_objects as go\n",
    "import plotly.express as px\n",
    "import sklearn"
   ]
  },
  {
   "cell_type": "code",
   "execution_count": 35,
   "metadata": {
    "ExecuteTime": {
     "start_time": "2023-04-26T20:07:38.079399Z",
     "end_time": "2023-04-26T20:07:39.673939Z"
    }
   },
   "outputs": [
    {
     "data": {
      "text/plain": "        Transaction Time       PCA1       PCA2      PCA3      PCA4      PCA5  \\\n1                    0.0  -1.359807  -0.072781  2.536347  1.378155 -0.338321   \n2                    0.0   1.191857   0.266151  0.166480  0.448154  0.060018   \n3                    1.0  -1.358354  -1.340163  1.773209  0.379780 -0.503198   \n4                    1.0  -0.966272  -0.185226  1.792993 -0.863291 -0.010309   \n5                    2.0  -1.158233   0.877737  1.548718  0.403034 -0.407193   \n...                  ...        ...        ...       ...       ...       ...   \n284803          172786.0 -11.881118  10.071785 -9.834783 -2.066656 -5.364473   \n284804          172787.0  -0.732789  -0.055080  2.035030 -0.738589  0.868229   \n284805          172788.0   1.919565  -0.301254 -3.249640 -0.557828  2.630515   \n284806          172788.0  -0.240440   0.530483  0.702510  0.689799 -0.377961   \n284807          172792.0  -0.533413  -0.189733  0.703337 -0.506271 -0.012546   \n\n            PCA6      PCA7      PCA8      PCA9  ...     PCA21     PCA22  \\\n1       0.462388  0.239599  0.098698  0.363787  ... -0.018307  0.277838   \n2      -0.082361 -0.078803  0.085102 -0.255425  ... -0.225775 -0.638672   \n3       1.800499  0.791461  0.247676 -1.514654  ...  0.247998  0.771679   \n4       1.247203  0.237609  0.377436 -1.387024  ... -0.108300  0.005274   \n5       0.095921  0.592941 -0.270533  0.817739  ... -0.009431  0.798278   \n...          ...       ...       ...       ...  ...       ...       ...   \n284803 -2.606837 -4.918215  7.305334  1.914428  ...  0.213454  0.111864   \n284804  1.058415  0.024330  0.294869  0.584800  ...  0.214205  0.924384   \n284805  3.031260 -0.296827  0.708417  0.432454  ...  0.232045  0.578229   \n284806  0.623708 -0.686180  0.679145  0.392087  ...  0.265245  0.800049   \n284807 -0.649617  1.577006 -0.414650  0.486180  ...  0.261057  0.643078   \n\n           PCA23     PCA24     PCA25     PCA26     PCA27     PCA28  Amount  \\\n1      -0.110474  0.066928  0.128539 -0.189115  0.133558 -0.021053  149.62   \n2       0.101288 -0.339846  0.167170  0.125895 -0.008983  0.014724    2.69   \n3       0.909412 -0.689281 -0.327642 -0.139097 -0.055353 -0.059752  378.66   \n4      -0.190321 -1.175575  0.647376 -0.221929  0.062723  0.061458  123.50   \n5      -0.137458  0.141267 -0.206010  0.502292  0.219422  0.215153   69.99   \n...          ...       ...       ...       ...       ...       ...     ...   \n284803  1.014480 -0.509348  1.436807  0.250034  0.943651  0.823731    0.77   \n284804  0.012463 -1.016226 -0.606624 -0.395255  0.068472 -0.053527   24.79   \n284805 -0.037501  0.640134  0.265745 -0.087371  0.004455 -0.026561   67.88   \n284806 -0.163298  0.123205 -0.569159  0.546668  0.108821  0.104533   10.00   \n284807  0.376777  0.008797 -0.473649 -0.818267 -0.002415  0.013649  217.00   \n\n        Type_of_Transaction  \n1                    Normal  \n2                    Normal  \n3                    Normal  \n4                    Normal  \n5                    Normal  \n...                     ...  \n284803               Normal  \n284804               Normal  \n284805               Normal  \n284806               Normal  \n284807               Normal  \n\n[284807 rows x 31 columns]",
      "text/html": "<div>\n<style scoped>\n    .dataframe tbody tr th:only-of-type {\n        vertical-align: middle;\n    }\n\n    .dataframe tbody tr th {\n        vertical-align: top;\n    }\n\n    .dataframe thead th {\n        text-align: right;\n    }\n</style>\n<table border=\"1\" class=\"dataframe\">\n  <thead>\n    <tr style=\"text-align: right;\">\n      <th></th>\n      <th>Transaction Time</th>\n      <th>PCA1</th>\n      <th>PCA2</th>\n      <th>PCA3</th>\n      <th>PCA4</th>\n      <th>PCA5</th>\n      <th>PCA6</th>\n      <th>PCA7</th>\n      <th>PCA8</th>\n      <th>PCA9</th>\n      <th>...</th>\n      <th>PCA21</th>\n      <th>PCA22</th>\n      <th>PCA23</th>\n      <th>PCA24</th>\n      <th>PCA25</th>\n      <th>PCA26</th>\n      <th>PCA27</th>\n      <th>PCA28</th>\n      <th>Amount</th>\n      <th>Type_of_Transaction</th>\n    </tr>\n  </thead>\n  <tbody>\n    <tr>\n      <th>1</th>\n      <td>0.0</td>\n      <td>-1.359807</td>\n      <td>-0.072781</td>\n      <td>2.536347</td>\n      <td>1.378155</td>\n      <td>-0.338321</td>\n      <td>0.462388</td>\n      <td>0.239599</td>\n      <td>0.098698</td>\n      <td>0.363787</td>\n      <td>...</td>\n      <td>-0.018307</td>\n      <td>0.277838</td>\n      <td>-0.110474</td>\n      <td>0.066928</td>\n      <td>0.128539</td>\n      <td>-0.189115</td>\n      <td>0.133558</td>\n      <td>-0.021053</td>\n      <td>149.62</td>\n      <td>Normal</td>\n    </tr>\n    <tr>\n      <th>2</th>\n      <td>0.0</td>\n      <td>1.191857</td>\n      <td>0.266151</td>\n      <td>0.166480</td>\n      <td>0.448154</td>\n      <td>0.060018</td>\n      <td>-0.082361</td>\n      <td>-0.078803</td>\n      <td>0.085102</td>\n      <td>-0.255425</td>\n      <td>...</td>\n      <td>-0.225775</td>\n      <td>-0.638672</td>\n      <td>0.101288</td>\n      <td>-0.339846</td>\n      <td>0.167170</td>\n      <td>0.125895</td>\n      <td>-0.008983</td>\n      <td>0.014724</td>\n      <td>2.69</td>\n      <td>Normal</td>\n    </tr>\n    <tr>\n      <th>3</th>\n      <td>1.0</td>\n      <td>-1.358354</td>\n      <td>-1.340163</td>\n      <td>1.773209</td>\n      <td>0.379780</td>\n      <td>-0.503198</td>\n      <td>1.800499</td>\n      <td>0.791461</td>\n      <td>0.247676</td>\n      <td>-1.514654</td>\n      <td>...</td>\n      <td>0.247998</td>\n      <td>0.771679</td>\n      <td>0.909412</td>\n      <td>-0.689281</td>\n      <td>-0.327642</td>\n      <td>-0.139097</td>\n      <td>-0.055353</td>\n      <td>-0.059752</td>\n      <td>378.66</td>\n      <td>Normal</td>\n    </tr>\n    <tr>\n      <th>4</th>\n      <td>1.0</td>\n      <td>-0.966272</td>\n      <td>-0.185226</td>\n      <td>1.792993</td>\n      <td>-0.863291</td>\n      <td>-0.010309</td>\n      <td>1.247203</td>\n      <td>0.237609</td>\n      <td>0.377436</td>\n      <td>-1.387024</td>\n      <td>...</td>\n      <td>-0.108300</td>\n      <td>0.005274</td>\n      <td>-0.190321</td>\n      <td>-1.175575</td>\n      <td>0.647376</td>\n      <td>-0.221929</td>\n      <td>0.062723</td>\n      <td>0.061458</td>\n      <td>123.50</td>\n      <td>Normal</td>\n    </tr>\n    <tr>\n      <th>5</th>\n      <td>2.0</td>\n      <td>-1.158233</td>\n      <td>0.877737</td>\n      <td>1.548718</td>\n      <td>0.403034</td>\n      <td>-0.407193</td>\n      <td>0.095921</td>\n      <td>0.592941</td>\n      <td>-0.270533</td>\n      <td>0.817739</td>\n      <td>...</td>\n      <td>-0.009431</td>\n      <td>0.798278</td>\n      <td>-0.137458</td>\n      <td>0.141267</td>\n      <td>-0.206010</td>\n      <td>0.502292</td>\n      <td>0.219422</td>\n      <td>0.215153</td>\n      <td>69.99</td>\n      <td>Normal</td>\n    </tr>\n    <tr>\n      <th>...</th>\n      <td>...</td>\n      <td>...</td>\n      <td>...</td>\n      <td>...</td>\n      <td>...</td>\n      <td>...</td>\n      <td>...</td>\n      <td>...</td>\n      <td>...</td>\n      <td>...</td>\n      <td>...</td>\n      <td>...</td>\n      <td>...</td>\n      <td>...</td>\n      <td>...</td>\n      <td>...</td>\n      <td>...</td>\n      <td>...</td>\n      <td>...</td>\n      <td>...</td>\n      <td>...</td>\n    </tr>\n    <tr>\n      <th>284803</th>\n      <td>172786.0</td>\n      <td>-11.881118</td>\n      <td>10.071785</td>\n      <td>-9.834783</td>\n      <td>-2.066656</td>\n      <td>-5.364473</td>\n      <td>-2.606837</td>\n      <td>-4.918215</td>\n      <td>7.305334</td>\n      <td>1.914428</td>\n      <td>...</td>\n      <td>0.213454</td>\n      <td>0.111864</td>\n      <td>1.014480</td>\n      <td>-0.509348</td>\n      <td>1.436807</td>\n      <td>0.250034</td>\n      <td>0.943651</td>\n      <td>0.823731</td>\n      <td>0.77</td>\n      <td>Normal</td>\n    </tr>\n    <tr>\n      <th>284804</th>\n      <td>172787.0</td>\n      <td>-0.732789</td>\n      <td>-0.055080</td>\n      <td>2.035030</td>\n      <td>-0.738589</td>\n      <td>0.868229</td>\n      <td>1.058415</td>\n      <td>0.024330</td>\n      <td>0.294869</td>\n      <td>0.584800</td>\n      <td>...</td>\n      <td>0.214205</td>\n      <td>0.924384</td>\n      <td>0.012463</td>\n      <td>-1.016226</td>\n      <td>-0.606624</td>\n      <td>-0.395255</td>\n      <td>0.068472</td>\n      <td>-0.053527</td>\n      <td>24.79</td>\n      <td>Normal</td>\n    </tr>\n    <tr>\n      <th>284805</th>\n      <td>172788.0</td>\n      <td>1.919565</td>\n      <td>-0.301254</td>\n      <td>-3.249640</td>\n      <td>-0.557828</td>\n      <td>2.630515</td>\n      <td>3.031260</td>\n      <td>-0.296827</td>\n      <td>0.708417</td>\n      <td>0.432454</td>\n      <td>...</td>\n      <td>0.232045</td>\n      <td>0.578229</td>\n      <td>-0.037501</td>\n      <td>0.640134</td>\n      <td>0.265745</td>\n      <td>-0.087371</td>\n      <td>0.004455</td>\n      <td>-0.026561</td>\n      <td>67.88</td>\n      <td>Normal</td>\n    </tr>\n    <tr>\n      <th>284806</th>\n      <td>172788.0</td>\n      <td>-0.240440</td>\n      <td>0.530483</td>\n      <td>0.702510</td>\n      <td>0.689799</td>\n      <td>-0.377961</td>\n      <td>0.623708</td>\n      <td>-0.686180</td>\n      <td>0.679145</td>\n      <td>0.392087</td>\n      <td>...</td>\n      <td>0.265245</td>\n      <td>0.800049</td>\n      <td>-0.163298</td>\n      <td>0.123205</td>\n      <td>-0.569159</td>\n      <td>0.546668</td>\n      <td>0.108821</td>\n      <td>0.104533</td>\n      <td>10.00</td>\n      <td>Normal</td>\n    </tr>\n    <tr>\n      <th>284807</th>\n      <td>172792.0</td>\n      <td>-0.533413</td>\n      <td>-0.189733</td>\n      <td>0.703337</td>\n      <td>-0.506271</td>\n      <td>-0.012546</td>\n      <td>-0.649617</td>\n      <td>1.577006</td>\n      <td>-0.414650</td>\n      <td>0.486180</td>\n      <td>...</td>\n      <td>0.261057</td>\n      <td>0.643078</td>\n      <td>0.376777</td>\n      <td>0.008797</td>\n      <td>-0.473649</td>\n      <td>-0.818267</td>\n      <td>-0.002415</td>\n      <td>0.013649</td>\n      <td>217.00</td>\n      <td>Normal</td>\n    </tr>\n  </tbody>\n</table>\n<p>284807 rows × 31 columns</p>\n</div>"
     },
     "execution_count": 35,
     "metadata": {},
     "output_type": "execute_result"
    }
   ],
   "source": [
    "path = r'C:\\Users\\crazy\\Downloads\\Online_transaction.csv'\n",
    "read = pd.read_csv(path, sep=',')\n",
    "onlinetransaction = pd.DataFrame(read)\n",
    "onlinetransaction.index = onlinetransaction.index +1\n",
    "onlinetransaction"
   ]
  },
  {
   "cell_type": "code",
   "execution_count": 36,
   "metadata": {
    "ExecuteTime": {
     "start_time": "2023-04-26T20:07:39.676939Z",
     "end_time": "2023-04-26T20:07:39.844577Z"
    }
   },
   "outputs": [
    {
     "data": {
      "text/plain": "<bound method DataFrame.info of         Transaction Time       PCA1       PCA2      PCA3      PCA4      PCA5  \\\n1                    0.0  -1.359807  -0.072781  2.536347  1.378155 -0.338321   \n2                    0.0   1.191857   0.266151  0.166480  0.448154  0.060018   \n3                    1.0  -1.358354  -1.340163  1.773209  0.379780 -0.503198   \n4                    1.0  -0.966272  -0.185226  1.792993 -0.863291 -0.010309   \n5                    2.0  -1.158233   0.877737  1.548718  0.403034 -0.407193   \n...                  ...        ...        ...       ...       ...       ...   \n284803          172786.0 -11.881118  10.071785 -9.834783 -2.066656 -5.364473   \n284804          172787.0  -0.732789  -0.055080  2.035030 -0.738589  0.868229   \n284805          172788.0   1.919565  -0.301254 -3.249640 -0.557828  2.630515   \n284806          172788.0  -0.240440   0.530483  0.702510  0.689799 -0.377961   \n284807          172792.0  -0.533413  -0.189733  0.703337 -0.506271 -0.012546   \n\n            PCA6      PCA7      PCA8      PCA9  ...     PCA21     PCA22  \\\n1       0.462388  0.239599  0.098698  0.363787  ... -0.018307  0.277838   \n2      -0.082361 -0.078803  0.085102 -0.255425  ... -0.225775 -0.638672   \n3       1.800499  0.791461  0.247676 -1.514654  ...  0.247998  0.771679   \n4       1.247203  0.237609  0.377436 -1.387024  ... -0.108300  0.005274   \n5       0.095921  0.592941 -0.270533  0.817739  ... -0.009431  0.798278   \n...          ...       ...       ...       ...  ...       ...       ...   \n284803 -2.606837 -4.918215  7.305334  1.914428  ...  0.213454  0.111864   \n284804  1.058415  0.024330  0.294869  0.584800  ...  0.214205  0.924384   \n284805  3.031260 -0.296827  0.708417  0.432454  ...  0.232045  0.578229   \n284806  0.623708 -0.686180  0.679145  0.392087  ...  0.265245  0.800049   \n284807 -0.649617  1.577006 -0.414650  0.486180  ...  0.261057  0.643078   \n\n           PCA23     PCA24     PCA25     PCA26     PCA27     PCA28  Amount  \\\n1      -0.110474  0.066928  0.128539 -0.189115  0.133558 -0.021053  149.62   \n2       0.101288 -0.339846  0.167170  0.125895 -0.008983  0.014724    2.69   \n3       0.909412 -0.689281 -0.327642 -0.139097 -0.055353 -0.059752  378.66   \n4      -0.190321 -1.175575  0.647376 -0.221929  0.062723  0.061458  123.50   \n5      -0.137458  0.141267 -0.206010  0.502292  0.219422  0.215153   69.99   \n...          ...       ...       ...       ...       ...       ...     ...   \n284803  1.014480 -0.509348  1.436807  0.250034  0.943651  0.823731    0.77   \n284804  0.012463 -1.016226 -0.606624 -0.395255  0.068472 -0.053527   24.79   \n284805 -0.037501  0.640134  0.265745 -0.087371  0.004455 -0.026561   67.88   \n284806 -0.163298  0.123205 -0.569159  0.546668  0.108821  0.104533   10.00   \n284807  0.376777  0.008797 -0.473649 -0.818267 -0.002415  0.013649  217.00   \n\n        Type_of_Transaction  \n1                    Normal  \n2                    Normal  \n3                    Normal  \n4                    Normal  \n5                    Normal  \n...                     ...  \n284803               Normal  \n284804               Normal  \n284805               Normal  \n284806               Normal  \n284807               Normal  \n\n[284807 rows x 31 columns]>"
     },
     "execution_count": 36,
     "metadata": {},
     "output_type": "execute_result"
    }
   ],
   "source": [
    "onlinetransaction.info"
   ]
  },
  {
   "cell_type": "code",
   "execution_count": 37,
   "metadata": {
    "ExecuteTime": {
     "start_time": "2023-04-26T20:07:39.739335Z",
     "end_time": "2023-04-26T20:07:40.829031Z"
    }
   },
   "outputs": [],
   "source": [
    "#Remove duplicated rows\n",
    "onlinetransaction=onlinetransaction.drop_duplicates()"
   ]
  },
  {
   "cell_type": "code",
   "execution_count": 38,
   "metadata": {
    "ExecuteTime": {
     "start_time": "2023-04-26T20:07:40.831547Z",
     "end_time": "2023-04-26T20:07:41.019985Z"
    }
   },
   "outputs": [
    {
     "name": "stderr",
     "output_type": "stream",
     "text": [
      "C:\\Users\\crazy\\AppData\\Local\\Temp\\ipykernel_22660\\91515032.py:1: SettingWithCopyWarning:\n",
      "\n",
      "\n",
      "A value is trying to be set on a copy of a slice from a DataFrame.\n",
      "Try using .loc[row_indexer,col_indexer] = value instead\n",
      "\n",
      "See the caveats in the documentation: https://pandas.pydata.org/pandas-docs/stable/user_guide/indexing.html#returning-a-view-versus-a-copy\n",
      "\n"
     ]
    },
    {
     "data": {
      "text/plain": "        Transaction Time       PCA1       PCA2      PCA3      PCA4      PCA5  \\\n1                    0.0  -1.359807  -0.072781  2.536347  1.378155 -0.338321   \n2                    0.0   1.191857   0.266151  0.166480  0.448154  0.060018   \n3                    1.0  -1.358354  -1.340163  1.773209  0.379780 -0.503198   \n4                    1.0  -0.966272  -0.185226  1.792993 -0.863291 -0.010309   \n5                    2.0  -1.158233   0.877737  1.548718  0.403034 -0.407193   \n...                  ...        ...        ...       ...       ...       ...   \n284803          172786.0 -11.881118  10.071785 -9.834783 -2.066656 -5.364473   \n284804          172787.0  -0.732789  -0.055080  2.035030 -0.738589  0.868229   \n284805          172788.0   1.919565  -0.301254 -3.249640 -0.557828  2.630515   \n284806          172788.0  -0.240440   0.530483  0.702510  0.689799 -0.377961   \n284807          172792.0  -0.533413  -0.189733  0.703337 -0.506271 -0.012546   \n\n            PCA6      PCA7      PCA8      PCA9  ...     PCA21     PCA22  \\\n1       0.462388  0.239599  0.098698  0.363787  ... -0.018307  0.277838   \n2      -0.082361 -0.078803  0.085102 -0.255425  ... -0.225775 -0.638672   \n3       1.800499  0.791461  0.247676 -1.514654  ...  0.247998  0.771679   \n4       1.247203  0.237609  0.377436 -1.387024  ... -0.108300  0.005274   \n5       0.095921  0.592941 -0.270533  0.817739  ... -0.009431  0.798278   \n...          ...       ...       ...       ...  ...       ...       ...   \n284803 -2.606837 -4.918215  7.305334  1.914428  ...  0.213454  0.111864   \n284804  1.058415  0.024330  0.294869  0.584800  ...  0.214205  0.924384   \n284805  3.031260 -0.296827  0.708417  0.432454  ...  0.232045  0.578229   \n284806  0.623708 -0.686180  0.679145  0.392087  ...  0.265245  0.800049   \n284807 -0.649617  1.577006 -0.414650  0.486180  ...  0.261057  0.643078   \n\n           PCA23     PCA24     PCA25     PCA26     PCA27     PCA28  Amount  \\\n1      -0.110474  0.066928  0.128539 -0.189115  0.133558 -0.021053  149.62   \n2       0.101288 -0.339846  0.167170  0.125895 -0.008983  0.014724    2.69   \n3       0.909412 -0.689281 -0.327642 -0.139097 -0.055353 -0.059752  378.66   \n4      -0.190321 -1.175575  0.647376 -0.221929  0.062723  0.061458  123.50   \n5      -0.137458  0.141267 -0.206010  0.502292  0.219422  0.215153   69.99   \n...          ...       ...       ...       ...       ...       ...     ...   \n284803  1.014480 -0.509348  1.436807  0.250034  0.943651  0.823731    0.77   \n284804  0.012463 -1.016226 -0.606624 -0.395255  0.068472 -0.053527   24.79   \n284805 -0.037501  0.640134  0.265745 -0.087371  0.004455 -0.026561   67.88   \n284806 -0.163298  0.123205 -0.569159  0.546668  0.108821  0.104533   10.00   \n284807  0.376777  0.008797 -0.473649 -0.818267 -0.002415  0.013649  217.00   \n\n        Type_of_Transaction  \n1                         1  \n2                         1  \n3                         1  \n4                         1  \n5                         1  \n...                     ...  \n284803                    1  \n284804                    1  \n284805                    1  \n284806                    1  \n284807                    1  \n\n[283726 rows x 31 columns]",
      "text/html": "<div>\n<style scoped>\n    .dataframe tbody tr th:only-of-type {\n        vertical-align: middle;\n    }\n\n    .dataframe tbody tr th {\n        vertical-align: top;\n    }\n\n    .dataframe thead th {\n        text-align: right;\n    }\n</style>\n<table border=\"1\" class=\"dataframe\">\n  <thead>\n    <tr style=\"text-align: right;\">\n      <th></th>\n      <th>Transaction Time</th>\n      <th>PCA1</th>\n      <th>PCA2</th>\n      <th>PCA3</th>\n      <th>PCA4</th>\n      <th>PCA5</th>\n      <th>PCA6</th>\n      <th>PCA7</th>\n      <th>PCA8</th>\n      <th>PCA9</th>\n      <th>...</th>\n      <th>PCA21</th>\n      <th>PCA22</th>\n      <th>PCA23</th>\n      <th>PCA24</th>\n      <th>PCA25</th>\n      <th>PCA26</th>\n      <th>PCA27</th>\n      <th>PCA28</th>\n      <th>Amount</th>\n      <th>Type_of_Transaction</th>\n    </tr>\n  </thead>\n  <tbody>\n    <tr>\n      <th>1</th>\n      <td>0.0</td>\n      <td>-1.359807</td>\n      <td>-0.072781</td>\n      <td>2.536347</td>\n      <td>1.378155</td>\n      <td>-0.338321</td>\n      <td>0.462388</td>\n      <td>0.239599</td>\n      <td>0.098698</td>\n      <td>0.363787</td>\n      <td>...</td>\n      <td>-0.018307</td>\n      <td>0.277838</td>\n      <td>-0.110474</td>\n      <td>0.066928</td>\n      <td>0.128539</td>\n      <td>-0.189115</td>\n      <td>0.133558</td>\n      <td>-0.021053</td>\n      <td>149.62</td>\n      <td>1</td>\n    </tr>\n    <tr>\n      <th>2</th>\n      <td>0.0</td>\n      <td>1.191857</td>\n      <td>0.266151</td>\n      <td>0.166480</td>\n      <td>0.448154</td>\n      <td>0.060018</td>\n      <td>-0.082361</td>\n      <td>-0.078803</td>\n      <td>0.085102</td>\n      <td>-0.255425</td>\n      <td>...</td>\n      <td>-0.225775</td>\n      <td>-0.638672</td>\n      <td>0.101288</td>\n      <td>-0.339846</td>\n      <td>0.167170</td>\n      <td>0.125895</td>\n      <td>-0.008983</td>\n      <td>0.014724</td>\n      <td>2.69</td>\n      <td>1</td>\n    </tr>\n    <tr>\n      <th>3</th>\n      <td>1.0</td>\n      <td>-1.358354</td>\n      <td>-1.340163</td>\n      <td>1.773209</td>\n      <td>0.379780</td>\n      <td>-0.503198</td>\n      <td>1.800499</td>\n      <td>0.791461</td>\n      <td>0.247676</td>\n      <td>-1.514654</td>\n      <td>...</td>\n      <td>0.247998</td>\n      <td>0.771679</td>\n      <td>0.909412</td>\n      <td>-0.689281</td>\n      <td>-0.327642</td>\n      <td>-0.139097</td>\n      <td>-0.055353</td>\n      <td>-0.059752</td>\n      <td>378.66</td>\n      <td>1</td>\n    </tr>\n    <tr>\n      <th>4</th>\n      <td>1.0</td>\n      <td>-0.966272</td>\n      <td>-0.185226</td>\n      <td>1.792993</td>\n      <td>-0.863291</td>\n      <td>-0.010309</td>\n      <td>1.247203</td>\n      <td>0.237609</td>\n      <td>0.377436</td>\n      <td>-1.387024</td>\n      <td>...</td>\n      <td>-0.108300</td>\n      <td>0.005274</td>\n      <td>-0.190321</td>\n      <td>-1.175575</td>\n      <td>0.647376</td>\n      <td>-0.221929</td>\n      <td>0.062723</td>\n      <td>0.061458</td>\n      <td>123.50</td>\n      <td>1</td>\n    </tr>\n    <tr>\n      <th>5</th>\n      <td>2.0</td>\n      <td>-1.158233</td>\n      <td>0.877737</td>\n      <td>1.548718</td>\n      <td>0.403034</td>\n      <td>-0.407193</td>\n      <td>0.095921</td>\n      <td>0.592941</td>\n      <td>-0.270533</td>\n      <td>0.817739</td>\n      <td>...</td>\n      <td>-0.009431</td>\n      <td>0.798278</td>\n      <td>-0.137458</td>\n      <td>0.141267</td>\n      <td>-0.206010</td>\n      <td>0.502292</td>\n      <td>0.219422</td>\n      <td>0.215153</td>\n      <td>69.99</td>\n      <td>1</td>\n    </tr>\n    <tr>\n      <th>...</th>\n      <td>...</td>\n      <td>...</td>\n      <td>...</td>\n      <td>...</td>\n      <td>...</td>\n      <td>...</td>\n      <td>...</td>\n      <td>...</td>\n      <td>...</td>\n      <td>...</td>\n      <td>...</td>\n      <td>...</td>\n      <td>...</td>\n      <td>...</td>\n      <td>...</td>\n      <td>...</td>\n      <td>...</td>\n      <td>...</td>\n      <td>...</td>\n      <td>...</td>\n      <td>...</td>\n    </tr>\n    <tr>\n      <th>284803</th>\n      <td>172786.0</td>\n      <td>-11.881118</td>\n      <td>10.071785</td>\n      <td>-9.834783</td>\n      <td>-2.066656</td>\n      <td>-5.364473</td>\n      <td>-2.606837</td>\n      <td>-4.918215</td>\n      <td>7.305334</td>\n      <td>1.914428</td>\n      <td>...</td>\n      <td>0.213454</td>\n      <td>0.111864</td>\n      <td>1.014480</td>\n      <td>-0.509348</td>\n      <td>1.436807</td>\n      <td>0.250034</td>\n      <td>0.943651</td>\n      <td>0.823731</td>\n      <td>0.77</td>\n      <td>1</td>\n    </tr>\n    <tr>\n      <th>284804</th>\n      <td>172787.0</td>\n      <td>-0.732789</td>\n      <td>-0.055080</td>\n      <td>2.035030</td>\n      <td>-0.738589</td>\n      <td>0.868229</td>\n      <td>1.058415</td>\n      <td>0.024330</td>\n      <td>0.294869</td>\n      <td>0.584800</td>\n      <td>...</td>\n      <td>0.214205</td>\n      <td>0.924384</td>\n      <td>0.012463</td>\n      <td>-1.016226</td>\n      <td>-0.606624</td>\n      <td>-0.395255</td>\n      <td>0.068472</td>\n      <td>-0.053527</td>\n      <td>24.79</td>\n      <td>1</td>\n    </tr>\n    <tr>\n      <th>284805</th>\n      <td>172788.0</td>\n      <td>1.919565</td>\n      <td>-0.301254</td>\n      <td>-3.249640</td>\n      <td>-0.557828</td>\n      <td>2.630515</td>\n      <td>3.031260</td>\n      <td>-0.296827</td>\n      <td>0.708417</td>\n      <td>0.432454</td>\n      <td>...</td>\n      <td>0.232045</td>\n      <td>0.578229</td>\n      <td>-0.037501</td>\n      <td>0.640134</td>\n      <td>0.265745</td>\n      <td>-0.087371</td>\n      <td>0.004455</td>\n      <td>-0.026561</td>\n      <td>67.88</td>\n      <td>1</td>\n    </tr>\n    <tr>\n      <th>284806</th>\n      <td>172788.0</td>\n      <td>-0.240440</td>\n      <td>0.530483</td>\n      <td>0.702510</td>\n      <td>0.689799</td>\n      <td>-0.377961</td>\n      <td>0.623708</td>\n      <td>-0.686180</td>\n      <td>0.679145</td>\n      <td>0.392087</td>\n      <td>...</td>\n      <td>0.265245</td>\n      <td>0.800049</td>\n      <td>-0.163298</td>\n      <td>0.123205</td>\n      <td>-0.569159</td>\n      <td>0.546668</td>\n      <td>0.108821</td>\n      <td>0.104533</td>\n      <td>10.00</td>\n      <td>1</td>\n    </tr>\n    <tr>\n      <th>284807</th>\n      <td>172792.0</td>\n      <td>-0.533413</td>\n      <td>-0.189733</td>\n      <td>0.703337</td>\n      <td>-0.506271</td>\n      <td>-0.012546</td>\n      <td>-0.649617</td>\n      <td>1.577006</td>\n      <td>-0.414650</td>\n      <td>0.486180</td>\n      <td>...</td>\n      <td>0.261057</td>\n      <td>0.643078</td>\n      <td>0.376777</td>\n      <td>0.008797</td>\n      <td>-0.473649</td>\n      <td>-0.818267</td>\n      <td>-0.002415</td>\n      <td>0.013649</td>\n      <td>217.00</td>\n      <td>1</td>\n    </tr>\n  </tbody>\n</table>\n<p>283726 rows × 31 columns</p>\n</div>"
     },
     "execution_count": 38,
     "metadata": {},
     "output_type": "execute_result"
    }
   ],
   "source": [
    "onlinetransaction['Type_of_Transaction'] = onlinetransaction['Type_of_Transaction'].replace({'Normal': 1, 'Unusual': 0})\n",
    "onlinetransaction"
   ]
  },
  {
   "cell_type": "code",
   "execution_count": 39,
   "metadata": {
    "ExecuteTime": {
     "start_time": "2023-04-26T20:07:41.023499Z",
     "end_time": "2023-04-26T20:07:41.033029Z"
    }
   },
   "outputs": [],
   "source": [
    "# sample = onlinetransaction.sample(n=10000)\n",
    "# sample"
   ]
  },
  {
   "cell_type": "code",
   "execution_count": 40,
   "metadata": {
    "ExecuteTime": {
     "start_time": "2023-04-26T20:07:41.037030Z",
     "end_time": "2023-04-26T20:07:41.094344Z"
    }
   },
   "outputs": [],
   "source": [
    "# dimensions = []\n",
    "# for column in sample.columns:\n",
    "#     if column != 'Type_of_Transaction':\n",
    "#         dimension = dict(range=[sample[column].min(), sample[column].max()],\n",
    "#                         label=column, values=sample[column], tickformat='.2f')\n",
    "#         dimensions.append(dimension)\n",
    "#\n",
    "# typeoftransact= dict(tickvals= [0,1],ticktext= ['Unusual','Normal'],label = 'Type of Transaction', values = sample['Type_of_Transaction'])\n",
    "#\n",
    "# dimensions.append(typeoftransact)\n",
    "# fig = go.Figure(data=go.Parcoords(line = dict(color = sample['Type_of_Transaction'],\n",
    "#                    colorscale = 'Electric'),dimensions= dimensions))\n",
    "#\n",
    "#\n",
    "#\n",
    "# # Set the layout\n",
    "# fig.update_layout(height=800, width=2000, hovermode='closest')\n",
    "#\n",
    "#\n",
    "# fig.show()"
   ]
  },
  {
   "cell_type": "code",
   "execution_count": 41,
   "metadata": {
    "ExecuteTime": {
     "start_time": "2023-04-26T20:07:41.052057Z",
     "end_time": "2023-04-26T20:07:41.140998Z"
    }
   },
   "outputs": [],
   "source": [
    "\n",
    "# # heatmap = go.Heatmap(x=sample.columns, y=sample.index, z=sample.values)\n",
    "#\n",
    "# # Set the layout\n",
    "# # layout = go.Layout(title='Heatmap Example with Qualitative Column')\n",
    "#\n",
    "# # Create the figure object\n",
    "# fig = go.Figure(data=[heatmap], layout=layout)\n",
    "#\n",
    "# # Display the figure\n",
    "# # fig.show()"
   ]
  },
  {
   "cell_type": "code",
   "execution_count": 42,
   "metadata": {
    "ExecuteTime": {
     "start_time": "2023-04-26T20:07:41.069080Z",
     "end_time": "2023-04-26T20:07:41.162913Z"
    }
   },
   "outputs": [
    {
     "data": {
      "text/plain": "        Transaction Time      PCA1      PCA2      PCA3      PCA4      PCA5  \\\n542                406.0 -2.312227  1.951992 -1.609851  3.997906 -0.522188   \n624                472.0 -3.043541 -3.157307  1.088463  2.288644  1.359805   \n4921              4462.0 -2.303350  1.759247 -0.359745  2.330243 -0.821628   \n6109              6986.0 -4.397974  1.358367 -2.592844  2.679787 -1.128131   \n6330              7519.0  1.234235  3.019740 -4.304597  4.732795  3.624201   \n...                  ...       ...       ...       ...       ...       ...   \n279864          169142.0 -1.927883  1.125653 -4.518331  1.749293 -1.566487   \n280144          169347.0  1.378559  1.289381 -5.004247  1.411850  0.442581   \n280150          169351.0 -0.676143  1.126366 -2.213700  0.468308 -1.120541   \n281145          169966.0 -3.113832  0.585864 -5.399730  1.817092 -0.840618   \n281675          170348.0  1.991976  0.158476 -2.583441  0.408670  1.151147   \n\n            PCA6      PCA7      PCA8      PCA9  ...     PCA21     PCA22  \\\n542    -1.426545 -2.537387  1.391657 -2.770089  ...  0.517232 -0.035049   \n624    -1.064823  0.325574 -0.067794 -0.270953  ...  0.661696  0.435477   \n4921   -0.075788  0.562320 -0.399147 -0.238253  ... -0.294166 -0.932391   \n6109   -1.706536 -3.496197 -0.248778 -0.247768  ...  0.573574  0.176968   \n6330   -1.357746  1.713445 -0.496358 -1.282858  ... -0.379068 -0.704181   \n...          ...       ...       ...       ...  ...       ...       ...   \n279864 -2.010494 -0.882850  0.697211 -2.064945  ...  0.778584 -0.319189   \n280144 -1.326536 -1.413170  0.248525 -1.127396  ...  0.370612  0.028234   \n280150 -0.003346 -2.234739  1.210158 -0.652250  ...  0.751826  0.834108   \n281145 -2.943548 -2.208002  1.058733 -1.632333  ...  0.583276 -0.269209   \n281675 -0.096695  0.223050 -0.068384  0.577829  ... -0.164350 -0.295135   \n\n           PCA23     PCA24     PCA25     PCA26     PCA27     PCA28  Amount  \\\n542    -0.465211  0.320198  0.044519  0.177840  0.261145 -0.143276    0.00   \n624     1.375966 -0.293803  0.279798 -0.145362 -0.252773  0.035764  529.00   \n4921    0.172726 -0.087330 -0.156114 -0.542628  0.039566 -0.153029  239.93   \n6109   -0.436207 -0.053502  0.252405 -0.657488 -0.827136  0.849573   59.00   \n6330   -0.656805 -1.632653  1.488901  0.566797 -0.010016  0.146793    1.00   \n...          ...       ...       ...       ...       ...       ...     ...   \n279864  0.639419 -0.294885  0.537503  0.788395  0.292680  0.147968  390.00   \n280144 -0.145640 -0.081049  0.521875  0.739467  0.389152  0.186637    0.76   \n280150  0.190944  0.032070 -0.739695  0.471111  0.385107  0.194361   77.89   \n281145 -0.456108 -0.183659 -0.328168  0.606116  0.884876 -0.253700  245.00   \n281675 -0.072173 -0.450261  0.313267 -0.289617  0.002988 -0.015309   42.53   \n\n        Type_of_Transaction  \n542                       0  \n624                       0  \n4921                      0  \n6109                      0  \n6330                      0  \n...                     ...  \n279864                    0  \n280144                    0  \n280150                    0  \n281145                    0  \n281675                    0  \n\n[473 rows x 31 columns]",
      "text/html": "<div>\n<style scoped>\n    .dataframe tbody tr th:only-of-type {\n        vertical-align: middle;\n    }\n\n    .dataframe tbody tr th {\n        vertical-align: top;\n    }\n\n    .dataframe thead th {\n        text-align: right;\n    }\n</style>\n<table border=\"1\" class=\"dataframe\">\n  <thead>\n    <tr style=\"text-align: right;\">\n      <th></th>\n      <th>Transaction Time</th>\n      <th>PCA1</th>\n      <th>PCA2</th>\n      <th>PCA3</th>\n      <th>PCA4</th>\n      <th>PCA5</th>\n      <th>PCA6</th>\n      <th>PCA7</th>\n      <th>PCA8</th>\n      <th>PCA9</th>\n      <th>...</th>\n      <th>PCA21</th>\n      <th>PCA22</th>\n      <th>PCA23</th>\n      <th>PCA24</th>\n      <th>PCA25</th>\n      <th>PCA26</th>\n      <th>PCA27</th>\n      <th>PCA28</th>\n      <th>Amount</th>\n      <th>Type_of_Transaction</th>\n    </tr>\n  </thead>\n  <tbody>\n    <tr>\n      <th>542</th>\n      <td>406.0</td>\n      <td>-2.312227</td>\n      <td>1.951992</td>\n      <td>-1.609851</td>\n      <td>3.997906</td>\n      <td>-0.522188</td>\n      <td>-1.426545</td>\n      <td>-2.537387</td>\n      <td>1.391657</td>\n      <td>-2.770089</td>\n      <td>...</td>\n      <td>0.517232</td>\n      <td>-0.035049</td>\n      <td>-0.465211</td>\n      <td>0.320198</td>\n      <td>0.044519</td>\n      <td>0.177840</td>\n      <td>0.261145</td>\n      <td>-0.143276</td>\n      <td>0.00</td>\n      <td>0</td>\n    </tr>\n    <tr>\n      <th>624</th>\n      <td>472.0</td>\n      <td>-3.043541</td>\n      <td>-3.157307</td>\n      <td>1.088463</td>\n      <td>2.288644</td>\n      <td>1.359805</td>\n      <td>-1.064823</td>\n      <td>0.325574</td>\n      <td>-0.067794</td>\n      <td>-0.270953</td>\n      <td>...</td>\n      <td>0.661696</td>\n      <td>0.435477</td>\n      <td>1.375966</td>\n      <td>-0.293803</td>\n      <td>0.279798</td>\n      <td>-0.145362</td>\n      <td>-0.252773</td>\n      <td>0.035764</td>\n      <td>529.00</td>\n      <td>0</td>\n    </tr>\n    <tr>\n      <th>4921</th>\n      <td>4462.0</td>\n      <td>-2.303350</td>\n      <td>1.759247</td>\n      <td>-0.359745</td>\n      <td>2.330243</td>\n      <td>-0.821628</td>\n      <td>-0.075788</td>\n      <td>0.562320</td>\n      <td>-0.399147</td>\n      <td>-0.238253</td>\n      <td>...</td>\n      <td>-0.294166</td>\n      <td>-0.932391</td>\n      <td>0.172726</td>\n      <td>-0.087330</td>\n      <td>-0.156114</td>\n      <td>-0.542628</td>\n      <td>0.039566</td>\n      <td>-0.153029</td>\n      <td>239.93</td>\n      <td>0</td>\n    </tr>\n    <tr>\n      <th>6109</th>\n      <td>6986.0</td>\n      <td>-4.397974</td>\n      <td>1.358367</td>\n      <td>-2.592844</td>\n      <td>2.679787</td>\n      <td>-1.128131</td>\n      <td>-1.706536</td>\n      <td>-3.496197</td>\n      <td>-0.248778</td>\n      <td>-0.247768</td>\n      <td>...</td>\n      <td>0.573574</td>\n      <td>0.176968</td>\n      <td>-0.436207</td>\n      <td>-0.053502</td>\n      <td>0.252405</td>\n      <td>-0.657488</td>\n      <td>-0.827136</td>\n      <td>0.849573</td>\n      <td>59.00</td>\n      <td>0</td>\n    </tr>\n    <tr>\n      <th>6330</th>\n      <td>7519.0</td>\n      <td>1.234235</td>\n      <td>3.019740</td>\n      <td>-4.304597</td>\n      <td>4.732795</td>\n      <td>3.624201</td>\n      <td>-1.357746</td>\n      <td>1.713445</td>\n      <td>-0.496358</td>\n      <td>-1.282858</td>\n      <td>...</td>\n      <td>-0.379068</td>\n      <td>-0.704181</td>\n      <td>-0.656805</td>\n      <td>-1.632653</td>\n      <td>1.488901</td>\n      <td>0.566797</td>\n      <td>-0.010016</td>\n      <td>0.146793</td>\n      <td>1.00</td>\n      <td>0</td>\n    </tr>\n    <tr>\n      <th>...</th>\n      <td>...</td>\n      <td>...</td>\n      <td>...</td>\n      <td>...</td>\n      <td>...</td>\n      <td>...</td>\n      <td>...</td>\n      <td>...</td>\n      <td>...</td>\n      <td>...</td>\n      <td>...</td>\n      <td>...</td>\n      <td>...</td>\n      <td>...</td>\n      <td>...</td>\n      <td>...</td>\n      <td>...</td>\n      <td>...</td>\n      <td>...</td>\n      <td>...</td>\n      <td>...</td>\n    </tr>\n    <tr>\n      <th>279864</th>\n      <td>169142.0</td>\n      <td>-1.927883</td>\n      <td>1.125653</td>\n      <td>-4.518331</td>\n      <td>1.749293</td>\n      <td>-1.566487</td>\n      <td>-2.010494</td>\n      <td>-0.882850</td>\n      <td>0.697211</td>\n      <td>-2.064945</td>\n      <td>...</td>\n      <td>0.778584</td>\n      <td>-0.319189</td>\n      <td>0.639419</td>\n      <td>-0.294885</td>\n      <td>0.537503</td>\n      <td>0.788395</td>\n      <td>0.292680</td>\n      <td>0.147968</td>\n      <td>390.00</td>\n      <td>0</td>\n    </tr>\n    <tr>\n      <th>280144</th>\n      <td>169347.0</td>\n      <td>1.378559</td>\n      <td>1.289381</td>\n      <td>-5.004247</td>\n      <td>1.411850</td>\n      <td>0.442581</td>\n      <td>-1.326536</td>\n      <td>-1.413170</td>\n      <td>0.248525</td>\n      <td>-1.127396</td>\n      <td>...</td>\n      <td>0.370612</td>\n      <td>0.028234</td>\n      <td>-0.145640</td>\n      <td>-0.081049</td>\n      <td>0.521875</td>\n      <td>0.739467</td>\n      <td>0.389152</td>\n      <td>0.186637</td>\n      <td>0.76</td>\n      <td>0</td>\n    </tr>\n    <tr>\n      <th>280150</th>\n      <td>169351.0</td>\n      <td>-0.676143</td>\n      <td>1.126366</td>\n      <td>-2.213700</td>\n      <td>0.468308</td>\n      <td>-1.120541</td>\n      <td>-0.003346</td>\n      <td>-2.234739</td>\n      <td>1.210158</td>\n      <td>-0.652250</td>\n      <td>...</td>\n      <td>0.751826</td>\n      <td>0.834108</td>\n      <td>0.190944</td>\n      <td>0.032070</td>\n      <td>-0.739695</td>\n      <td>0.471111</td>\n      <td>0.385107</td>\n      <td>0.194361</td>\n      <td>77.89</td>\n      <td>0</td>\n    </tr>\n    <tr>\n      <th>281145</th>\n      <td>169966.0</td>\n      <td>-3.113832</td>\n      <td>0.585864</td>\n      <td>-5.399730</td>\n      <td>1.817092</td>\n      <td>-0.840618</td>\n      <td>-2.943548</td>\n      <td>-2.208002</td>\n      <td>1.058733</td>\n      <td>-1.632333</td>\n      <td>...</td>\n      <td>0.583276</td>\n      <td>-0.269209</td>\n      <td>-0.456108</td>\n      <td>-0.183659</td>\n      <td>-0.328168</td>\n      <td>0.606116</td>\n      <td>0.884876</td>\n      <td>-0.253700</td>\n      <td>245.00</td>\n      <td>0</td>\n    </tr>\n    <tr>\n      <th>281675</th>\n      <td>170348.0</td>\n      <td>1.991976</td>\n      <td>0.158476</td>\n      <td>-2.583441</td>\n      <td>0.408670</td>\n      <td>1.151147</td>\n      <td>-0.096695</td>\n      <td>0.223050</td>\n      <td>-0.068384</td>\n      <td>0.577829</td>\n      <td>...</td>\n      <td>-0.164350</td>\n      <td>-0.295135</td>\n      <td>-0.072173</td>\n      <td>-0.450261</td>\n      <td>0.313267</td>\n      <td>-0.289617</td>\n      <td>0.002988</td>\n      <td>-0.015309</td>\n      <td>42.53</td>\n      <td>0</td>\n    </tr>\n  </tbody>\n</table>\n<p>473 rows × 31 columns</p>\n</div>"
     },
     "execution_count": 42,
     "metadata": {},
     "output_type": "execute_result"
    }
   ],
   "source": [
    "unusual = onlinetransaction[onlinetransaction['Type_of_Transaction']== 0]\n",
    "\n",
    "\n",
    "unusual\n",
    "\n"
   ]
  },
  {
   "cell_type": "code",
   "execution_count": 43,
   "metadata": {
    "ExecuteTime": {
     "start_time": "2023-04-26T20:07:41.102864Z",
     "end_time": "2023-04-26T20:07:41.184797Z"
    }
   },
   "outputs": [],
   "source": [
    "unusual= unusual.drop(['Type_of_Transaction'],axis=1)\n"
   ]
  },
  {
   "cell_type": "code",
   "execution_count": 44,
   "metadata": {
    "ExecuteTime": {
     "start_time": "2023-04-26T20:07:41.114377Z",
     "end_time": "2023-04-26T20:07:41.249529Z"
    }
   },
   "outputs": [
    {
     "data": {
      "text/plain": "        Transaction Time      PCA1      PCA2      PCA3      PCA4      PCA5  \\\n542                406.0 -2.312227  1.951992 -1.609851  3.997906 -0.522188   \n624                472.0 -3.043541 -3.157307  1.088463  2.288644  1.359805   \n4921              4462.0 -2.303350  1.759247 -0.359745  2.330243 -0.821628   \n6109              6986.0 -4.397974  1.358367 -2.592844  2.679787 -1.128131   \n6330              7519.0  1.234235  3.019740 -4.304597  4.732795  3.624201   \n...                  ...       ...       ...       ...       ...       ...   \n279864          169142.0 -1.927883  1.125653 -4.518331  1.749293 -1.566487   \n280144          169347.0  1.378559  1.289381 -5.004247  1.411850  0.442581   \n280150          169351.0 -0.676143  1.126366 -2.213700  0.468308 -1.120541   \n281145          169966.0 -3.113832  0.585864 -5.399730  1.817092 -0.840618   \n281675          170348.0  1.991976  0.158476 -2.583441  0.408670  1.151147   \n\n            PCA6      PCA7      PCA8      PCA9  ...     PCA20     PCA21  \\\n542    -1.426545 -2.537387  1.391657 -2.770089  ...  0.126911  0.517232   \n624    -1.064823  0.325574 -0.067794 -0.270953  ...  2.102339  0.661696   \n4921   -0.075788  0.562320 -0.399147 -0.238253  ... -0.430022 -0.294166   \n6109   -1.706536 -3.496197 -0.248778 -0.247768  ... -0.171608  0.573574   \n6330   -1.357746  1.713445 -0.496358 -1.282858  ...  0.009061 -0.379068   \n...          ...       ...       ...       ...  ...       ...       ...   \n279864 -2.010494 -0.882850  0.697211 -2.064945  ...  1.252967  0.778584   \n280144 -1.326536 -1.413170  0.248525 -1.127396  ...  0.226138  0.370612   \n280150 -0.003346 -2.234739  1.210158 -0.652250  ...  0.247968  0.751826   \n281145 -2.943548 -2.208002  1.058733 -1.632333  ...  0.306271  0.583276   \n281675 -0.096695  0.223050 -0.068384  0.577829  ... -0.017652 -0.164350   \n\n           PCA22     PCA23     PCA24     PCA25     PCA26     PCA27     PCA28  \\\n542    -0.035049 -0.465211  0.320198  0.044519  0.177840  0.261145 -0.143276   \n624     0.435477  1.375966 -0.293803  0.279798 -0.145362 -0.252773  0.035764   \n4921   -0.932391  0.172726 -0.087330 -0.156114 -0.542628  0.039566 -0.153029   \n6109    0.176968 -0.436207 -0.053502  0.252405 -0.657488 -0.827136  0.849573   \n6330   -0.704181 -0.656805 -1.632653  1.488901  0.566797 -0.010016  0.146793   \n...          ...       ...       ...       ...       ...       ...       ...   \n279864 -0.319189  0.639419 -0.294885  0.537503  0.788395  0.292680  0.147968   \n280144  0.028234 -0.145640 -0.081049  0.521875  0.739467  0.389152  0.186637   \n280150  0.834108  0.190944  0.032070 -0.739695  0.471111  0.385107  0.194361   \n281145 -0.269209 -0.456108 -0.183659 -0.328168  0.606116  0.884876 -0.253700   \n281675 -0.295135 -0.072173 -0.450261  0.313267 -0.289617  0.002988 -0.015309   \n\n        Amount  \n542       0.00  \n624     529.00  \n4921    239.93  \n6109     59.00  \n6330      1.00  \n...        ...  \n279864  390.00  \n280144    0.76  \n280150   77.89  \n281145  245.00  \n281675   42.53  \n\n[473 rows x 30 columns]",
      "text/html": "<div>\n<style scoped>\n    .dataframe tbody tr th:only-of-type {\n        vertical-align: middle;\n    }\n\n    .dataframe tbody tr th {\n        vertical-align: top;\n    }\n\n    .dataframe thead th {\n        text-align: right;\n    }\n</style>\n<table border=\"1\" class=\"dataframe\">\n  <thead>\n    <tr style=\"text-align: right;\">\n      <th></th>\n      <th>Transaction Time</th>\n      <th>PCA1</th>\n      <th>PCA2</th>\n      <th>PCA3</th>\n      <th>PCA4</th>\n      <th>PCA5</th>\n      <th>PCA6</th>\n      <th>PCA7</th>\n      <th>PCA8</th>\n      <th>PCA9</th>\n      <th>...</th>\n      <th>PCA20</th>\n      <th>PCA21</th>\n      <th>PCA22</th>\n      <th>PCA23</th>\n      <th>PCA24</th>\n      <th>PCA25</th>\n      <th>PCA26</th>\n      <th>PCA27</th>\n      <th>PCA28</th>\n      <th>Amount</th>\n    </tr>\n  </thead>\n  <tbody>\n    <tr>\n      <th>542</th>\n      <td>406.0</td>\n      <td>-2.312227</td>\n      <td>1.951992</td>\n      <td>-1.609851</td>\n      <td>3.997906</td>\n      <td>-0.522188</td>\n      <td>-1.426545</td>\n      <td>-2.537387</td>\n      <td>1.391657</td>\n      <td>-2.770089</td>\n      <td>...</td>\n      <td>0.126911</td>\n      <td>0.517232</td>\n      <td>-0.035049</td>\n      <td>-0.465211</td>\n      <td>0.320198</td>\n      <td>0.044519</td>\n      <td>0.177840</td>\n      <td>0.261145</td>\n      <td>-0.143276</td>\n      <td>0.00</td>\n    </tr>\n    <tr>\n      <th>624</th>\n      <td>472.0</td>\n      <td>-3.043541</td>\n      <td>-3.157307</td>\n      <td>1.088463</td>\n      <td>2.288644</td>\n      <td>1.359805</td>\n      <td>-1.064823</td>\n      <td>0.325574</td>\n      <td>-0.067794</td>\n      <td>-0.270953</td>\n      <td>...</td>\n      <td>2.102339</td>\n      <td>0.661696</td>\n      <td>0.435477</td>\n      <td>1.375966</td>\n      <td>-0.293803</td>\n      <td>0.279798</td>\n      <td>-0.145362</td>\n      <td>-0.252773</td>\n      <td>0.035764</td>\n      <td>529.00</td>\n    </tr>\n    <tr>\n      <th>4921</th>\n      <td>4462.0</td>\n      <td>-2.303350</td>\n      <td>1.759247</td>\n      <td>-0.359745</td>\n      <td>2.330243</td>\n      <td>-0.821628</td>\n      <td>-0.075788</td>\n      <td>0.562320</td>\n      <td>-0.399147</td>\n      <td>-0.238253</td>\n      <td>...</td>\n      <td>-0.430022</td>\n      <td>-0.294166</td>\n      <td>-0.932391</td>\n      <td>0.172726</td>\n      <td>-0.087330</td>\n      <td>-0.156114</td>\n      <td>-0.542628</td>\n      <td>0.039566</td>\n      <td>-0.153029</td>\n      <td>239.93</td>\n    </tr>\n    <tr>\n      <th>6109</th>\n      <td>6986.0</td>\n      <td>-4.397974</td>\n      <td>1.358367</td>\n      <td>-2.592844</td>\n      <td>2.679787</td>\n      <td>-1.128131</td>\n      <td>-1.706536</td>\n      <td>-3.496197</td>\n      <td>-0.248778</td>\n      <td>-0.247768</td>\n      <td>...</td>\n      <td>-0.171608</td>\n      <td>0.573574</td>\n      <td>0.176968</td>\n      <td>-0.436207</td>\n      <td>-0.053502</td>\n      <td>0.252405</td>\n      <td>-0.657488</td>\n      <td>-0.827136</td>\n      <td>0.849573</td>\n      <td>59.00</td>\n    </tr>\n    <tr>\n      <th>6330</th>\n      <td>7519.0</td>\n      <td>1.234235</td>\n      <td>3.019740</td>\n      <td>-4.304597</td>\n      <td>4.732795</td>\n      <td>3.624201</td>\n      <td>-1.357746</td>\n      <td>1.713445</td>\n      <td>-0.496358</td>\n      <td>-1.282858</td>\n      <td>...</td>\n      <td>0.009061</td>\n      <td>-0.379068</td>\n      <td>-0.704181</td>\n      <td>-0.656805</td>\n      <td>-1.632653</td>\n      <td>1.488901</td>\n      <td>0.566797</td>\n      <td>-0.010016</td>\n      <td>0.146793</td>\n      <td>1.00</td>\n    </tr>\n    <tr>\n      <th>...</th>\n      <td>...</td>\n      <td>...</td>\n      <td>...</td>\n      <td>...</td>\n      <td>...</td>\n      <td>...</td>\n      <td>...</td>\n      <td>...</td>\n      <td>...</td>\n      <td>...</td>\n      <td>...</td>\n      <td>...</td>\n      <td>...</td>\n      <td>...</td>\n      <td>...</td>\n      <td>...</td>\n      <td>...</td>\n      <td>...</td>\n      <td>...</td>\n      <td>...</td>\n      <td>...</td>\n    </tr>\n    <tr>\n      <th>279864</th>\n      <td>169142.0</td>\n      <td>-1.927883</td>\n      <td>1.125653</td>\n      <td>-4.518331</td>\n      <td>1.749293</td>\n      <td>-1.566487</td>\n      <td>-2.010494</td>\n      <td>-0.882850</td>\n      <td>0.697211</td>\n      <td>-2.064945</td>\n      <td>...</td>\n      <td>1.252967</td>\n      <td>0.778584</td>\n      <td>-0.319189</td>\n      <td>0.639419</td>\n      <td>-0.294885</td>\n      <td>0.537503</td>\n      <td>0.788395</td>\n      <td>0.292680</td>\n      <td>0.147968</td>\n      <td>390.00</td>\n    </tr>\n    <tr>\n      <th>280144</th>\n      <td>169347.0</td>\n      <td>1.378559</td>\n      <td>1.289381</td>\n      <td>-5.004247</td>\n      <td>1.411850</td>\n      <td>0.442581</td>\n      <td>-1.326536</td>\n      <td>-1.413170</td>\n      <td>0.248525</td>\n      <td>-1.127396</td>\n      <td>...</td>\n      <td>0.226138</td>\n      <td>0.370612</td>\n      <td>0.028234</td>\n      <td>-0.145640</td>\n      <td>-0.081049</td>\n      <td>0.521875</td>\n      <td>0.739467</td>\n      <td>0.389152</td>\n      <td>0.186637</td>\n      <td>0.76</td>\n    </tr>\n    <tr>\n      <th>280150</th>\n      <td>169351.0</td>\n      <td>-0.676143</td>\n      <td>1.126366</td>\n      <td>-2.213700</td>\n      <td>0.468308</td>\n      <td>-1.120541</td>\n      <td>-0.003346</td>\n      <td>-2.234739</td>\n      <td>1.210158</td>\n      <td>-0.652250</td>\n      <td>...</td>\n      <td>0.247968</td>\n      <td>0.751826</td>\n      <td>0.834108</td>\n      <td>0.190944</td>\n      <td>0.032070</td>\n      <td>-0.739695</td>\n      <td>0.471111</td>\n      <td>0.385107</td>\n      <td>0.194361</td>\n      <td>77.89</td>\n    </tr>\n    <tr>\n      <th>281145</th>\n      <td>169966.0</td>\n      <td>-3.113832</td>\n      <td>0.585864</td>\n      <td>-5.399730</td>\n      <td>1.817092</td>\n      <td>-0.840618</td>\n      <td>-2.943548</td>\n      <td>-2.208002</td>\n      <td>1.058733</td>\n      <td>-1.632333</td>\n      <td>...</td>\n      <td>0.306271</td>\n      <td>0.583276</td>\n      <td>-0.269209</td>\n      <td>-0.456108</td>\n      <td>-0.183659</td>\n      <td>-0.328168</td>\n      <td>0.606116</td>\n      <td>0.884876</td>\n      <td>-0.253700</td>\n      <td>245.00</td>\n    </tr>\n    <tr>\n      <th>281675</th>\n      <td>170348.0</td>\n      <td>1.991976</td>\n      <td>0.158476</td>\n      <td>-2.583441</td>\n      <td>0.408670</td>\n      <td>1.151147</td>\n      <td>-0.096695</td>\n      <td>0.223050</td>\n      <td>-0.068384</td>\n      <td>0.577829</td>\n      <td>...</td>\n      <td>-0.017652</td>\n      <td>-0.164350</td>\n      <td>-0.295135</td>\n      <td>-0.072173</td>\n      <td>-0.450261</td>\n      <td>0.313267</td>\n      <td>-0.289617</td>\n      <td>0.002988</td>\n      <td>-0.015309</td>\n      <td>42.53</td>\n    </tr>\n  </tbody>\n</table>\n<p>473 rows × 30 columns</p>\n</div>"
     },
     "execution_count": 44,
     "metadata": {},
     "output_type": "execute_result"
    }
   ],
   "source": [
    "unusual"
   ]
  },
  {
   "cell_type": "code",
   "execution_count": 45,
   "metadata": {
    "ExecuteTime": {
     "start_time": "2023-04-26T20:07:41.146948Z",
     "end_time": "2023-04-26T20:07:41.249529Z"
    }
   },
   "outputs": [],
   "source": [
    "# for column in unusual:\n",
    "#     unusual[column] = unusual[column].sum()\n",
    "#\n",
    "# unusual = unusual.drop_duplicates()\n",
    "# unusual"
   ]
  },
  {
   "cell_type": "code",
   "execution_count": 46,
   "metadata": {
    "ExecuteTime": {
     "start_time": "2023-04-26T20:07:41.163922Z",
     "end_time": "2023-04-26T20:07:41.303105Z"
    }
   },
   "outputs": [
    {
     "data": {
      "application/vnd.plotly.v1+json": {
       "data": [
        {
         "alignmentgroup": "True",
         "hovertemplate": "Column=%{x}<br>Mean=%{y}<extra></extra>",
         "legendgroup": "",
         "marker": {
          "color": "#636efa",
          "pattern": {
           "shape": ""
          }
         },
         "name": "",
         "offsetgroup": "",
         "orientation": "v",
         "showlegend": false,
         "textposition": "auto",
         "x": [
          "Transaction Time",
          "PCA1",
          "PCA2",
          "PCA3",
          "PCA4",
          "PCA5",
          "PCA6",
          "PCA7",
          "PCA8",
          "PCA9",
          "PCA10",
          "PCA11",
          "PCA12",
          "PCA13",
          "PCA14",
          "PCA15",
          "PCA16",
          "PCA17",
          "PCA18",
          "PCA19",
          "PCA20",
          "PCA21",
          "PCA22",
          "PCA23",
          "PCA24",
          "PCA25",
          "PCA26",
          "PCA27",
          "PCA28",
          "Amount"
         ],
         "xaxis": "x",
         "y": [
          0.08012690281336053,
          -0.4247260828628291,
          0.23023245876558998,
          -0.32218685893551985,
          0.09307034408201471,
          -0.3491234333494721,
          -0.005916271624189383,
          -0.37386230210984195,
          0.17933107523569905,
          -0.14063261969525925,
          -0.2034890645146482,
          0.05784171282392212,
          -0.11527343011363651,
          -0.018343766432654368,
          -0.04671823912284698,
          -0.026874744142534795,
          -0.13104832048675258,
          -0.1248329670407283,
          -0.15775984337279633,
          0.010924846170237807,
          0.12172772696627102,
          -0.09216309860168442,
          0.02763689056902916,
          -0.03404056982822141,
          -0.063152714068203,
          -0.047565963934255065,
          0.057187092964193026,
          -0.21624241513582698,
          -0.14400097107500343,
          1.0873473206703812
         ],
         "yaxis": "y",
         "type": "bar"
        }
       ],
       "layout": {
        "template": {
         "data": {
          "histogram2dcontour": [
           {
            "type": "histogram2dcontour",
            "colorbar": {
             "outlinewidth": 0,
             "ticks": ""
            },
            "colorscale": [
             [
              0.0,
              "#0d0887"
             ],
             [
              0.1111111111111111,
              "#46039f"
             ],
             [
              0.2222222222222222,
              "#7201a8"
             ],
             [
              0.3333333333333333,
              "#9c179e"
             ],
             [
              0.4444444444444444,
              "#bd3786"
             ],
             [
              0.5555555555555556,
              "#d8576b"
             ],
             [
              0.6666666666666666,
              "#ed7953"
             ],
             [
              0.7777777777777778,
              "#fb9f3a"
             ],
             [
              0.8888888888888888,
              "#fdca26"
             ],
             [
              1.0,
              "#f0f921"
             ]
            ]
           }
          ],
          "choropleth": [
           {
            "type": "choropleth",
            "colorbar": {
             "outlinewidth": 0,
             "ticks": ""
            }
           }
          ],
          "histogram2d": [
           {
            "type": "histogram2d",
            "colorbar": {
             "outlinewidth": 0,
             "ticks": ""
            },
            "colorscale": [
             [
              0.0,
              "#0d0887"
             ],
             [
              0.1111111111111111,
              "#46039f"
             ],
             [
              0.2222222222222222,
              "#7201a8"
             ],
             [
              0.3333333333333333,
              "#9c179e"
             ],
             [
              0.4444444444444444,
              "#bd3786"
             ],
             [
              0.5555555555555556,
              "#d8576b"
             ],
             [
              0.6666666666666666,
              "#ed7953"
             ],
             [
              0.7777777777777778,
              "#fb9f3a"
             ],
             [
              0.8888888888888888,
              "#fdca26"
             ],
             [
              1.0,
              "#f0f921"
             ]
            ]
           }
          ],
          "heatmap": [
           {
            "type": "heatmap",
            "colorbar": {
             "outlinewidth": 0,
             "ticks": ""
            },
            "colorscale": [
             [
              0.0,
              "#0d0887"
             ],
             [
              0.1111111111111111,
              "#46039f"
             ],
             [
              0.2222222222222222,
              "#7201a8"
             ],
             [
              0.3333333333333333,
              "#9c179e"
             ],
             [
              0.4444444444444444,
              "#bd3786"
             ],
             [
              0.5555555555555556,
              "#d8576b"
             ],
             [
              0.6666666666666666,
              "#ed7953"
             ],
             [
              0.7777777777777778,
              "#fb9f3a"
             ],
             [
              0.8888888888888888,
              "#fdca26"
             ],
             [
              1.0,
              "#f0f921"
             ]
            ]
           }
          ],
          "heatmapgl": [
           {
            "type": "heatmapgl",
            "colorbar": {
             "outlinewidth": 0,
             "ticks": ""
            },
            "colorscale": [
             [
              0.0,
              "#0d0887"
             ],
             [
              0.1111111111111111,
              "#46039f"
             ],
             [
              0.2222222222222222,
              "#7201a8"
             ],
             [
              0.3333333333333333,
              "#9c179e"
             ],
             [
              0.4444444444444444,
              "#bd3786"
             ],
             [
              0.5555555555555556,
              "#d8576b"
             ],
             [
              0.6666666666666666,
              "#ed7953"
             ],
             [
              0.7777777777777778,
              "#fb9f3a"
             ],
             [
              0.8888888888888888,
              "#fdca26"
             ],
             [
              1.0,
              "#f0f921"
             ]
            ]
           }
          ],
          "contourcarpet": [
           {
            "type": "contourcarpet",
            "colorbar": {
             "outlinewidth": 0,
             "ticks": ""
            }
           }
          ],
          "contour": [
           {
            "type": "contour",
            "colorbar": {
             "outlinewidth": 0,
             "ticks": ""
            },
            "colorscale": [
             [
              0.0,
              "#0d0887"
             ],
             [
              0.1111111111111111,
              "#46039f"
             ],
             [
              0.2222222222222222,
              "#7201a8"
             ],
             [
              0.3333333333333333,
              "#9c179e"
             ],
             [
              0.4444444444444444,
              "#bd3786"
             ],
             [
              0.5555555555555556,
              "#d8576b"
             ],
             [
              0.6666666666666666,
              "#ed7953"
             ],
             [
              0.7777777777777778,
              "#fb9f3a"
             ],
             [
              0.8888888888888888,
              "#fdca26"
             ],
             [
              1.0,
              "#f0f921"
             ]
            ]
           }
          ],
          "surface": [
           {
            "type": "surface",
            "colorbar": {
             "outlinewidth": 0,
             "ticks": ""
            },
            "colorscale": [
             [
              0.0,
              "#0d0887"
             ],
             [
              0.1111111111111111,
              "#46039f"
             ],
             [
              0.2222222222222222,
              "#7201a8"
             ],
             [
              0.3333333333333333,
              "#9c179e"
             ],
             [
              0.4444444444444444,
              "#bd3786"
             ],
             [
              0.5555555555555556,
              "#d8576b"
             ],
             [
              0.6666666666666666,
              "#ed7953"
             ],
             [
              0.7777777777777778,
              "#fb9f3a"
             ],
             [
              0.8888888888888888,
              "#fdca26"
             ],
             [
              1.0,
              "#f0f921"
             ]
            ]
           }
          ],
          "mesh3d": [
           {
            "type": "mesh3d",
            "colorbar": {
             "outlinewidth": 0,
             "ticks": ""
            }
           }
          ],
          "scatter": [
           {
            "marker": {
             "line": {
              "color": "#283442"
             }
            },
            "type": "scatter"
           }
          ],
          "parcoords": [
           {
            "type": "parcoords",
            "line": {
             "colorbar": {
              "outlinewidth": 0,
              "ticks": ""
             }
            }
           }
          ],
          "scatterpolargl": [
           {
            "type": "scatterpolargl",
            "marker": {
             "colorbar": {
              "outlinewidth": 0,
              "ticks": ""
             }
            }
           }
          ],
          "bar": [
           {
            "error_x": {
             "color": "#f2f5fa"
            },
            "error_y": {
             "color": "#f2f5fa"
            },
            "marker": {
             "line": {
              "color": "rgb(17,17,17)",
              "width": 0.5
             },
             "pattern": {
              "fillmode": "overlay",
              "size": 10,
              "solidity": 0.2
             }
            },
            "type": "bar"
           }
          ],
          "scattergeo": [
           {
            "type": "scattergeo",
            "marker": {
             "colorbar": {
              "outlinewidth": 0,
              "ticks": ""
             }
            }
           }
          ],
          "scatterpolar": [
           {
            "type": "scatterpolar",
            "marker": {
             "colorbar": {
              "outlinewidth": 0,
              "ticks": ""
             }
            }
           }
          ],
          "histogram": [
           {
            "marker": {
             "pattern": {
              "fillmode": "overlay",
              "size": 10,
              "solidity": 0.2
             }
            },
            "type": "histogram"
           }
          ],
          "scattergl": [
           {
            "marker": {
             "line": {
              "color": "#283442"
             }
            },
            "type": "scattergl"
           }
          ],
          "scatter3d": [
           {
            "type": "scatter3d",
            "line": {
             "colorbar": {
              "outlinewidth": 0,
              "ticks": ""
             }
            },
            "marker": {
             "colorbar": {
              "outlinewidth": 0,
              "ticks": ""
             }
            }
           }
          ],
          "scattermapbox": [
           {
            "type": "scattermapbox",
            "marker": {
             "colorbar": {
              "outlinewidth": 0,
              "ticks": ""
             }
            }
           }
          ],
          "scatterternary": [
           {
            "type": "scatterternary",
            "marker": {
             "colorbar": {
              "outlinewidth": 0,
              "ticks": ""
             }
            }
           }
          ],
          "scattercarpet": [
           {
            "type": "scattercarpet",
            "marker": {
             "colorbar": {
              "outlinewidth": 0,
              "ticks": ""
             }
            }
           }
          ],
          "carpet": [
           {
            "aaxis": {
             "endlinecolor": "#A2B1C6",
             "gridcolor": "#506784",
             "linecolor": "#506784",
             "minorgridcolor": "#506784",
             "startlinecolor": "#A2B1C6"
            },
            "baxis": {
             "endlinecolor": "#A2B1C6",
             "gridcolor": "#506784",
             "linecolor": "#506784",
             "minorgridcolor": "#506784",
             "startlinecolor": "#A2B1C6"
            },
            "type": "carpet"
           }
          ],
          "table": [
           {
            "cells": {
             "fill": {
              "color": "#506784"
             },
             "line": {
              "color": "rgb(17,17,17)"
             }
            },
            "header": {
             "fill": {
              "color": "#2a3f5f"
             },
             "line": {
              "color": "rgb(17,17,17)"
             }
            },
            "type": "table"
           }
          ],
          "barpolar": [
           {
            "marker": {
             "line": {
              "color": "rgb(17,17,17)",
              "width": 0.5
             },
             "pattern": {
              "fillmode": "overlay",
              "size": 10,
              "solidity": 0.2
             }
            },
            "type": "barpolar"
           }
          ],
          "pie": [
           {
            "automargin": true,
            "type": "pie"
           }
          ]
         },
         "layout": {
          "autotypenumbers": "strict",
          "colorway": [
           "#636efa",
           "#EF553B",
           "#00cc96",
           "#ab63fa",
           "#FFA15A",
           "#19d3f3",
           "#FF6692",
           "#B6E880",
           "#FF97FF",
           "#FECB52"
          ],
          "font": {
           "color": "#f2f5fa"
          },
          "hovermode": "closest",
          "hoverlabel": {
           "align": "left"
          },
          "paper_bgcolor": "rgb(17,17,17)",
          "plot_bgcolor": "rgb(17,17,17)",
          "polar": {
           "bgcolor": "rgb(17,17,17)",
           "angularaxis": {
            "gridcolor": "#506784",
            "linecolor": "#506784",
            "ticks": ""
           },
           "radialaxis": {
            "gridcolor": "#506784",
            "linecolor": "#506784",
            "ticks": ""
           }
          },
          "ternary": {
           "bgcolor": "rgb(17,17,17)",
           "aaxis": {
            "gridcolor": "#506784",
            "linecolor": "#506784",
            "ticks": ""
           },
           "baxis": {
            "gridcolor": "#506784",
            "linecolor": "#506784",
            "ticks": ""
           },
           "caxis": {
            "gridcolor": "#506784",
            "linecolor": "#506784",
            "ticks": ""
           }
          },
          "coloraxis": {
           "colorbar": {
            "outlinewidth": 0,
            "ticks": ""
           }
          },
          "colorscale": {
           "sequential": [
            [
             0.0,
             "#0d0887"
            ],
            [
             0.1111111111111111,
             "#46039f"
            ],
            [
             0.2222222222222222,
             "#7201a8"
            ],
            [
             0.3333333333333333,
             "#9c179e"
            ],
            [
             0.4444444444444444,
             "#bd3786"
            ],
            [
             0.5555555555555556,
             "#d8576b"
            ],
            [
             0.6666666666666666,
             "#ed7953"
            ],
            [
             0.7777777777777778,
             "#fb9f3a"
            ],
            [
             0.8888888888888888,
             "#fdca26"
            ],
            [
             1.0,
             "#f0f921"
            ]
           ],
           "sequentialminus": [
            [
             0.0,
             "#0d0887"
            ],
            [
             0.1111111111111111,
             "#46039f"
            ],
            [
             0.2222222222222222,
             "#7201a8"
            ],
            [
             0.3333333333333333,
             "#9c179e"
            ],
            [
             0.4444444444444444,
             "#bd3786"
            ],
            [
             0.5555555555555556,
             "#d8576b"
            ],
            [
             0.6666666666666666,
             "#ed7953"
            ],
            [
             0.7777777777777778,
             "#fb9f3a"
            ],
            [
             0.8888888888888888,
             "#fdca26"
            ],
            [
             1.0,
             "#f0f921"
            ]
           ],
           "diverging": [
            [
             0,
             "#8e0152"
            ],
            [
             0.1,
             "#c51b7d"
            ],
            [
             0.2,
             "#de77ae"
            ],
            [
             0.3,
             "#f1b6da"
            ],
            [
             0.4,
             "#fde0ef"
            ],
            [
             0.5,
             "#f7f7f7"
            ],
            [
             0.6,
             "#e6f5d0"
            ],
            [
             0.7,
             "#b8e186"
            ],
            [
             0.8,
             "#7fbc41"
            ],
            [
             0.9,
             "#4d9221"
            ],
            [
             1,
             "#276419"
            ]
           ]
          },
          "xaxis": {
           "gridcolor": "#283442",
           "linecolor": "#506784",
           "ticks": "",
           "title": {
            "standoff": 15
           },
           "zerolinecolor": "#283442",
           "automargin": true,
           "zerolinewidth": 2
          },
          "yaxis": {
           "gridcolor": "#283442",
           "linecolor": "#506784",
           "ticks": "",
           "title": {
            "standoff": 15
           },
           "zerolinecolor": "#283442",
           "automargin": true,
           "zerolinewidth": 2
          },
          "scene": {
           "xaxis": {
            "backgroundcolor": "rgb(17,17,17)",
            "gridcolor": "#506784",
            "linecolor": "#506784",
            "showbackground": true,
            "ticks": "",
            "zerolinecolor": "#C8D4E3",
            "gridwidth": 2
           },
           "yaxis": {
            "backgroundcolor": "rgb(17,17,17)",
            "gridcolor": "#506784",
            "linecolor": "#506784",
            "showbackground": true,
            "ticks": "",
            "zerolinecolor": "#C8D4E3",
            "gridwidth": 2
           },
           "zaxis": {
            "backgroundcolor": "rgb(17,17,17)",
            "gridcolor": "#506784",
            "linecolor": "#506784",
            "showbackground": true,
            "ticks": "",
            "zerolinecolor": "#C8D4E3",
            "gridwidth": 2
           }
          },
          "shapedefaults": {
           "line": {
            "color": "#f2f5fa"
           }
          },
          "annotationdefaults": {
           "arrowcolor": "#f2f5fa",
           "arrowhead": 0,
           "arrowwidth": 1
          },
          "geo": {
           "bgcolor": "rgb(17,17,17)",
           "landcolor": "rgb(17,17,17)",
           "subunitcolor": "#506784",
           "showland": true,
           "showlakes": true,
           "lakecolor": "rgb(17,17,17)"
          },
          "title": {
           "x": 0.05
          },
          "updatemenudefaults": {
           "bgcolor": "#506784",
           "borderwidth": 0
          },
          "sliderdefaults": {
           "bgcolor": "#C8D4E3",
           "borderwidth": 1,
           "bordercolor": "rgb(17,17,17)",
           "tickwidth": 0
          },
          "mapbox": {
           "style": "dark"
          }
         }
        },
        "xaxis": {
         "anchor": "y",
         "domain": [
          0.0,
          1.0
         ],
         "title": {
          "text": "Column"
         }
        },
        "yaxis": {
         "anchor": "x",
         "domain": [
          0.0,
          1.0
         ],
         "title": {
          "text": "Mean"
         }
        },
        "legend": {
         "tracegroupgap": 0
        },
        "title": {
         "text": "Mean of Values in Each Column For Unusual Transactions"
        },
        "barmode": "relative"
       },
       "config": {
        "plotlyServerURL": "https://plot.ly"
       }
      },
      "text/html": "<div>                            <div id=\"630d6857-6af4-4062-bb78-0cb08eb343cc\" class=\"plotly-graph-div\" style=\"height:525px; width:100%;\"></div>            <script type=\"text/javascript\">                require([\"plotly\"], function(Plotly) {                    window.PLOTLYENV=window.PLOTLYENV || {};                                    if (document.getElementById(\"630d6857-6af4-4062-bb78-0cb08eb343cc\")) {                    Plotly.newPlot(                        \"630d6857-6af4-4062-bb78-0cb08eb343cc\",                        [{\"alignmentgroup\":\"True\",\"hovertemplate\":\"Column=%{x}<br>Mean=%{y}<extra></extra>\",\"legendgroup\":\"\",\"marker\":{\"color\":\"#636efa\",\"pattern\":{\"shape\":\"\"}},\"name\":\"\",\"offsetgroup\":\"\",\"orientation\":\"v\",\"showlegend\":false,\"textposition\":\"auto\",\"x\":[\"Transaction Time\",\"PCA1\",\"PCA2\",\"PCA3\",\"PCA4\",\"PCA5\",\"PCA6\",\"PCA7\",\"PCA8\",\"PCA9\",\"PCA10\",\"PCA11\",\"PCA12\",\"PCA13\",\"PCA14\",\"PCA15\",\"PCA16\",\"PCA17\",\"PCA18\",\"PCA19\",\"PCA20\",\"PCA21\",\"PCA22\",\"PCA23\",\"PCA24\",\"PCA25\",\"PCA26\",\"PCA27\",\"PCA28\",\"Amount\"],\"xaxis\":\"x\",\"y\":[0.08012690281336053,-0.4247260828628291,0.23023245876558998,-0.32218685893551985,0.09307034408201471,-0.3491234333494721,-0.005916271624189383,-0.37386230210984195,0.17933107523569905,-0.14063261969525925,-0.2034890645146482,0.05784171282392212,-0.11527343011363651,-0.018343766432654368,-0.04671823912284698,-0.026874744142534795,-0.13104832048675258,-0.1248329670407283,-0.15775984337279633,0.010924846170237807,0.12172772696627102,-0.09216309860168442,0.02763689056902916,-0.03404056982822141,-0.063152714068203,-0.047565963934255065,0.057187092964193026,-0.21624241513582698,-0.14400097107500343,1.0873473206703812],\"yaxis\":\"y\",\"type\":\"bar\"}],                        {\"template\":{\"data\":{\"histogram2dcontour\":[{\"type\":\"histogram2dcontour\",\"colorbar\":{\"outlinewidth\":0,\"ticks\":\"\"},\"colorscale\":[[0.0,\"#0d0887\"],[0.1111111111111111,\"#46039f\"],[0.2222222222222222,\"#7201a8\"],[0.3333333333333333,\"#9c179e\"],[0.4444444444444444,\"#bd3786\"],[0.5555555555555556,\"#d8576b\"],[0.6666666666666666,\"#ed7953\"],[0.7777777777777778,\"#fb9f3a\"],[0.8888888888888888,\"#fdca26\"],[1.0,\"#f0f921\"]]}],\"choropleth\":[{\"type\":\"choropleth\",\"colorbar\":{\"outlinewidth\":0,\"ticks\":\"\"}}],\"histogram2d\":[{\"type\":\"histogram2d\",\"colorbar\":{\"outlinewidth\":0,\"ticks\":\"\"},\"colorscale\":[[0.0,\"#0d0887\"],[0.1111111111111111,\"#46039f\"],[0.2222222222222222,\"#7201a8\"],[0.3333333333333333,\"#9c179e\"],[0.4444444444444444,\"#bd3786\"],[0.5555555555555556,\"#d8576b\"],[0.6666666666666666,\"#ed7953\"],[0.7777777777777778,\"#fb9f3a\"],[0.8888888888888888,\"#fdca26\"],[1.0,\"#f0f921\"]]}],\"heatmap\":[{\"type\":\"heatmap\",\"colorbar\":{\"outlinewidth\":0,\"ticks\":\"\"},\"colorscale\":[[0.0,\"#0d0887\"],[0.1111111111111111,\"#46039f\"],[0.2222222222222222,\"#7201a8\"],[0.3333333333333333,\"#9c179e\"],[0.4444444444444444,\"#bd3786\"],[0.5555555555555556,\"#d8576b\"],[0.6666666666666666,\"#ed7953\"],[0.7777777777777778,\"#fb9f3a\"],[0.8888888888888888,\"#fdca26\"],[1.0,\"#f0f921\"]]}],\"heatmapgl\":[{\"type\":\"heatmapgl\",\"colorbar\":{\"outlinewidth\":0,\"ticks\":\"\"},\"colorscale\":[[0.0,\"#0d0887\"],[0.1111111111111111,\"#46039f\"],[0.2222222222222222,\"#7201a8\"],[0.3333333333333333,\"#9c179e\"],[0.4444444444444444,\"#bd3786\"],[0.5555555555555556,\"#d8576b\"],[0.6666666666666666,\"#ed7953\"],[0.7777777777777778,\"#fb9f3a\"],[0.8888888888888888,\"#fdca26\"],[1.0,\"#f0f921\"]]}],\"contourcarpet\":[{\"type\":\"contourcarpet\",\"colorbar\":{\"outlinewidth\":0,\"ticks\":\"\"}}],\"contour\":[{\"type\":\"contour\",\"colorbar\":{\"outlinewidth\":0,\"ticks\":\"\"},\"colorscale\":[[0.0,\"#0d0887\"],[0.1111111111111111,\"#46039f\"],[0.2222222222222222,\"#7201a8\"],[0.3333333333333333,\"#9c179e\"],[0.4444444444444444,\"#bd3786\"],[0.5555555555555556,\"#d8576b\"],[0.6666666666666666,\"#ed7953\"],[0.7777777777777778,\"#fb9f3a\"],[0.8888888888888888,\"#fdca26\"],[1.0,\"#f0f921\"]]}],\"surface\":[{\"type\":\"surface\",\"colorbar\":{\"outlinewidth\":0,\"ticks\":\"\"},\"colorscale\":[[0.0,\"#0d0887\"],[0.1111111111111111,\"#46039f\"],[0.2222222222222222,\"#7201a8\"],[0.3333333333333333,\"#9c179e\"],[0.4444444444444444,\"#bd3786\"],[0.5555555555555556,\"#d8576b\"],[0.6666666666666666,\"#ed7953\"],[0.7777777777777778,\"#fb9f3a\"],[0.8888888888888888,\"#fdca26\"],[1.0,\"#f0f921\"]]}],\"mesh3d\":[{\"type\":\"mesh3d\",\"colorbar\":{\"outlinewidth\":0,\"ticks\":\"\"}}],\"scatter\":[{\"marker\":{\"line\":{\"color\":\"#283442\"}},\"type\":\"scatter\"}],\"parcoords\":[{\"type\":\"parcoords\",\"line\":{\"colorbar\":{\"outlinewidth\":0,\"ticks\":\"\"}}}],\"scatterpolargl\":[{\"type\":\"scatterpolargl\",\"marker\":{\"colorbar\":{\"outlinewidth\":0,\"ticks\":\"\"}}}],\"bar\":[{\"error_x\":{\"color\":\"#f2f5fa\"},\"error_y\":{\"color\":\"#f2f5fa\"},\"marker\":{\"line\":{\"color\":\"rgb(17,17,17)\",\"width\":0.5},\"pattern\":{\"fillmode\":\"overlay\",\"size\":10,\"solidity\":0.2}},\"type\":\"bar\"}],\"scattergeo\":[{\"type\":\"scattergeo\",\"marker\":{\"colorbar\":{\"outlinewidth\":0,\"ticks\":\"\"}}}],\"scatterpolar\":[{\"type\":\"scatterpolar\",\"marker\":{\"colorbar\":{\"outlinewidth\":0,\"ticks\":\"\"}}}],\"histogram\":[{\"marker\":{\"pattern\":{\"fillmode\":\"overlay\",\"size\":10,\"solidity\":0.2}},\"type\":\"histogram\"}],\"scattergl\":[{\"marker\":{\"line\":{\"color\":\"#283442\"}},\"type\":\"scattergl\"}],\"scatter3d\":[{\"type\":\"scatter3d\",\"line\":{\"colorbar\":{\"outlinewidth\":0,\"ticks\":\"\"}},\"marker\":{\"colorbar\":{\"outlinewidth\":0,\"ticks\":\"\"}}}],\"scattermapbox\":[{\"type\":\"scattermapbox\",\"marker\":{\"colorbar\":{\"outlinewidth\":0,\"ticks\":\"\"}}}],\"scatterternary\":[{\"type\":\"scatterternary\",\"marker\":{\"colorbar\":{\"outlinewidth\":0,\"ticks\":\"\"}}}],\"scattercarpet\":[{\"type\":\"scattercarpet\",\"marker\":{\"colorbar\":{\"outlinewidth\":0,\"ticks\":\"\"}}}],\"carpet\":[{\"aaxis\":{\"endlinecolor\":\"#A2B1C6\",\"gridcolor\":\"#506784\",\"linecolor\":\"#506784\",\"minorgridcolor\":\"#506784\",\"startlinecolor\":\"#A2B1C6\"},\"baxis\":{\"endlinecolor\":\"#A2B1C6\",\"gridcolor\":\"#506784\",\"linecolor\":\"#506784\",\"minorgridcolor\":\"#506784\",\"startlinecolor\":\"#A2B1C6\"},\"type\":\"carpet\"}],\"table\":[{\"cells\":{\"fill\":{\"color\":\"#506784\"},\"line\":{\"color\":\"rgb(17,17,17)\"}},\"header\":{\"fill\":{\"color\":\"#2a3f5f\"},\"line\":{\"color\":\"rgb(17,17,17)\"}},\"type\":\"table\"}],\"barpolar\":[{\"marker\":{\"line\":{\"color\":\"rgb(17,17,17)\",\"width\":0.5},\"pattern\":{\"fillmode\":\"overlay\",\"size\":10,\"solidity\":0.2}},\"type\":\"barpolar\"}],\"pie\":[{\"automargin\":true,\"type\":\"pie\"}]},\"layout\":{\"autotypenumbers\":\"strict\",\"colorway\":[\"#636efa\",\"#EF553B\",\"#00cc96\",\"#ab63fa\",\"#FFA15A\",\"#19d3f3\",\"#FF6692\",\"#B6E880\",\"#FF97FF\",\"#FECB52\"],\"font\":{\"color\":\"#f2f5fa\"},\"hovermode\":\"closest\",\"hoverlabel\":{\"align\":\"left\"},\"paper_bgcolor\":\"rgb(17,17,17)\",\"plot_bgcolor\":\"rgb(17,17,17)\",\"polar\":{\"bgcolor\":\"rgb(17,17,17)\",\"angularaxis\":{\"gridcolor\":\"#506784\",\"linecolor\":\"#506784\",\"ticks\":\"\"},\"radialaxis\":{\"gridcolor\":\"#506784\",\"linecolor\":\"#506784\",\"ticks\":\"\"}},\"ternary\":{\"bgcolor\":\"rgb(17,17,17)\",\"aaxis\":{\"gridcolor\":\"#506784\",\"linecolor\":\"#506784\",\"ticks\":\"\"},\"baxis\":{\"gridcolor\":\"#506784\",\"linecolor\":\"#506784\",\"ticks\":\"\"},\"caxis\":{\"gridcolor\":\"#506784\",\"linecolor\":\"#506784\",\"ticks\":\"\"}},\"coloraxis\":{\"colorbar\":{\"outlinewidth\":0,\"ticks\":\"\"}},\"colorscale\":{\"sequential\":[[0.0,\"#0d0887\"],[0.1111111111111111,\"#46039f\"],[0.2222222222222222,\"#7201a8\"],[0.3333333333333333,\"#9c179e\"],[0.4444444444444444,\"#bd3786\"],[0.5555555555555556,\"#d8576b\"],[0.6666666666666666,\"#ed7953\"],[0.7777777777777778,\"#fb9f3a\"],[0.8888888888888888,\"#fdca26\"],[1.0,\"#f0f921\"]],\"sequentialminus\":[[0.0,\"#0d0887\"],[0.1111111111111111,\"#46039f\"],[0.2222222222222222,\"#7201a8\"],[0.3333333333333333,\"#9c179e\"],[0.4444444444444444,\"#bd3786\"],[0.5555555555555556,\"#d8576b\"],[0.6666666666666666,\"#ed7953\"],[0.7777777777777778,\"#fb9f3a\"],[0.8888888888888888,\"#fdca26\"],[1.0,\"#f0f921\"]],\"diverging\":[[0,\"#8e0152\"],[0.1,\"#c51b7d\"],[0.2,\"#de77ae\"],[0.3,\"#f1b6da\"],[0.4,\"#fde0ef\"],[0.5,\"#f7f7f7\"],[0.6,\"#e6f5d0\"],[0.7,\"#b8e186\"],[0.8,\"#7fbc41\"],[0.9,\"#4d9221\"],[1,\"#276419\"]]},\"xaxis\":{\"gridcolor\":\"#283442\",\"linecolor\":\"#506784\",\"ticks\":\"\",\"title\":{\"standoff\":15},\"zerolinecolor\":\"#283442\",\"automargin\":true,\"zerolinewidth\":2},\"yaxis\":{\"gridcolor\":\"#283442\",\"linecolor\":\"#506784\",\"ticks\":\"\",\"title\":{\"standoff\":15},\"zerolinecolor\":\"#283442\",\"automargin\":true,\"zerolinewidth\":2},\"scene\":{\"xaxis\":{\"backgroundcolor\":\"rgb(17,17,17)\",\"gridcolor\":\"#506784\",\"linecolor\":\"#506784\",\"showbackground\":true,\"ticks\":\"\",\"zerolinecolor\":\"#C8D4E3\",\"gridwidth\":2},\"yaxis\":{\"backgroundcolor\":\"rgb(17,17,17)\",\"gridcolor\":\"#506784\",\"linecolor\":\"#506784\",\"showbackground\":true,\"ticks\":\"\",\"zerolinecolor\":\"#C8D4E3\",\"gridwidth\":2},\"zaxis\":{\"backgroundcolor\":\"rgb(17,17,17)\",\"gridcolor\":\"#506784\",\"linecolor\":\"#506784\",\"showbackground\":true,\"ticks\":\"\",\"zerolinecolor\":\"#C8D4E3\",\"gridwidth\":2}},\"shapedefaults\":{\"line\":{\"color\":\"#f2f5fa\"}},\"annotationdefaults\":{\"arrowcolor\":\"#f2f5fa\",\"arrowhead\":0,\"arrowwidth\":1},\"geo\":{\"bgcolor\":\"rgb(17,17,17)\",\"landcolor\":\"rgb(17,17,17)\",\"subunitcolor\":\"#506784\",\"showland\":true,\"showlakes\":true,\"lakecolor\":\"rgb(17,17,17)\"},\"title\":{\"x\":0.05},\"updatemenudefaults\":{\"bgcolor\":\"#506784\",\"borderwidth\":0},\"sliderdefaults\":{\"bgcolor\":\"#C8D4E3\",\"borderwidth\":1,\"bordercolor\":\"rgb(17,17,17)\",\"tickwidth\":0},\"mapbox\":{\"style\":\"dark\"}}},\"xaxis\":{\"anchor\":\"y\",\"domain\":[0.0,1.0],\"title\":{\"text\":\"Column\"}},\"yaxis\":{\"anchor\":\"x\",\"domain\":[0.0,1.0],\"title\":{\"text\":\"Mean\"}},\"legend\":{\"tracegroupgap\":0},\"title\":{\"text\":\"Mean of Values in Each Column For Unusual Transactions\"},\"barmode\":\"relative\"},                        {\"responsive\": true}                    ).then(function(){\n                            \nvar gd = document.getElementById('630d6857-6af4-4062-bb78-0cb08eb343cc');\nvar x = new MutationObserver(function (mutations, observer) {{\n        var display = window.getComputedStyle(gd).display;\n        if (!display || display === 'none') {{\n            console.log([gd, 'removed!']);\n            Plotly.purge(gd);\n            observer.disconnect();\n        }}\n}});\n\n// Listen for the removal of the full notebook cells\nvar notebookContainer = gd.closest('#notebook-container');\nif (notebookContainer) {{\n    x.observe(notebookContainer, {childList: true});\n}}\n\n// Listen for the clearing of the current output cell\nvar outputEl = gd.closest('.output');\nif (outputEl) {{\n    x.observe(outputEl, {childList: true});\n}}\n\n                        })                };                });            </script>        </div>"
     },
     "metadata": {},
     "output_type": "display_data"
    }
   ],
   "source": [
    "from sklearn.preprocessing import RobustScaler\n",
    "\n",
    "# scale the data to the range [-1, 1] using RobustScaler\n",
    "scaler = RobustScaler()\n",
    "scaled_data = scaler.fit_transform(unusual)\n",
    "\n",
    "# create a new DataFrame with the column names and their means\n",
    "column_sums = scaled_data.mean(axis=0)\n",
    "data = {'Column': unusual.columns.tolist(), 'Mean': column_sums.tolist()}\n",
    "df = pd.DataFrame(data)\n",
    "\n",
    "# create the bar chart with Plotly\n",
    "fig = px.bar(df, x='Column', y='Mean', title='Mean of Values in Each Column For Unusual Transactions')\n",
    "fig.show()\n"
   ]
  },
  {
   "cell_type": "code",
   "execution_count": 47,
   "outputs": [],
   "source": [
    "# fig.write_image('Mean Unusual Transactions.png')\n",
    "fig.write_html('Mean Unusual Transactions.html')"
   ],
   "metadata": {
    "collapsed": false,
    "ExecuteTime": {
     "start_time": "2023-04-26T20:07:41.224010Z",
     "end_time": "2023-04-26T20:07:41.318584Z"
    }
   }
  },
  {
   "cell_type": "code",
   "execution_count": 48,
   "metadata": {
    "ExecuteTime": {
     "start_time": "2023-04-26T20:07:41.270701Z",
     "end_time": "2023-04-26T20:07:41.506310Z"
    }
   },
   "outputs": [
    {
     "data": {
      "text/plain": "        Transaction Time       PCA1       PCA2      PCA3      PCA4      PCA5  \\\n1                    0.0  -1.359807  -0.072781  2.536347  1.378155 -0.338321   \n2                    0.0   1.191857   0.266151  0.166480  0.448154  0.060018   \n3                    1.0  -1.358354  -1.340163  1.773209  0.379780 -0.503198   \n4                    1.0  -0.966272  -0.185226  1.792993 -0.863291 -0.010309   \n5                    2.0  -1.158233   0.877737  1.548718  0.403034 -0.407193   \n...                  ...        ...        ...       ...       ...       ...   \n284803          172786.0 -11.881118  10.071785 -9.834783 -2.066656 -5.364473   \n284804          172787.0  -0.732789  -0.055080  2.035030 -0.738589  0.868229   \n284805          172788.0   1.919565  -0.301254 -3.249640 -0.557828  2.630515   \n284806          172788.0  -0.240440   0.530483  0.702510  0.689799 -0.377961   \n284807          172792.0  -0.533413  -0.189733  0.703337 -0.506271 -0.012546   \n\n            PCA6      PCA7      PCA8      PCA9  ...     PCA20     PCA21  \\\n1       0.462388  0.239599  0.098698  0.363787  ...  0.251412 -0.018307   \n2      -0.082361 -0.078803  0.085102 -0.255425  ... -0.069083 -0.225775   \n3       1.800499  0.791461  0.247676 -1.514654  ...  0.524980  0.247998   \n4       1.247203  0.237609  0.377436 -1.387024  ... -0.208038 -0.108300   \n5       0.095921  0.592941 -0.270533  0.817739  ...  0.408542 -0.009431   \n...          ...       ...       ...       ...  ...       ...       ...   \n284803 -2.606837 -4.918215  7.305334  1.914428  ...  1.475829  0.213454   \n284804  1.058415  0.024330  0.294869  0.584800  ...  0.059616  0.214205   \n284805  3.031260 -0.296827  0.708417  0.432454  ...  0.001396  0.232045   \n284806  0.623708 -0.686180  0.679145  0.392087  ...  0.127434  0.265245   \n284807 -0.649617  1.577006 -0.414650  0.486180  ...  0.382948  0.261057   \n\n           PCA22     PCA23     PCA24     PCA25     PCA26     PCA27     PCA28  \\\n1       0.277838 -0.110474  0.066928  0.128539 -0.189115  0.133558 -0.021053   \n2      -0.638672  0.101288 -0.339846  0.167170  0.125895 -0.008983  0.014724   \n3       0.771679  0.909412 -0.689281 -0.327642 -0.139097 -0.055353 -0.059752   \n4       0.005274 -0.190321 -1.175575  0.647376 -0.221929  0.062723  0.061458   \n5       0.798278 -0.137458  0.141267 -0.206010  0.502292  0.219422  0.215153   \n...          ...       ...       ...       ...       ...       ...       ...   \n284803  0.111864  1.014480 -0.509348  1.436807  0.250034  0.943651  0.823731   \n284804  0.924384  0.012463 -1.016226 -0.606624 -0.395255  0.068472 -0.053527   \n284805  0.578229 -0.037501  0.640134  0.265745 -0.087371  0.004455 -0.026561   \n284806  0.800049 -0.163298  0.123205 -0.569159  0.546668  0.108821  0.104533   \n284807  0.643078  0.376777  0.008797 -0.473649 -0.818267 -0.002415  0.013649   \n\n        Amount  \n1       149.62  \n2         2.69  \n3       378.66  \n4       123.50  \n5        69.99  \n...        ...  \n284803    0.77  \n284804   24.79  \n284805   67.88  \n284806   10.00  \n284807  217.00  \n\n[283253 rows x 30 columns]",
      "text/html": "<div>\n<style scoped>\n    .dataframe tbody tr th:only-of-type {\n        vertical-align: middle;\n    }\n\n    .dataframe tbody tr th {\n        vertical-align: top;\n    }\n\n    .dataframe thead th {\n        text-align: right;\n    }\n</style>\n<table border=\"1\" class=\"dataframe\">\n  <thead>\n    <tr style=\"text-align: right;\">\n      <th></th>\n      <th>Transaction Time</th>\n      <th>PCA1</th>\n      <th>PCA2</th>\n      <th>PCA3</th>\n      <th>PCA4</th>\n      <th>PCA5</th>\n      <th>PCA6</th>\n      <th>PCA7</th>\n      <th>PCA8</th>\n      <th>PCA9</th>\n      <th>...</th>\n      <th>PCA20</th>\n      <th>PCA21</th>\n      <th>PCA22</th>\n      <th>PCA23</th>\n      <th>PCA24</th>\n      <th>PCA25</th>\n      <th>PCA26</th>\n      <th>PCA27</th>\n      <th>PCA28</th>\n      <th>Amount</th>\n    </tr>\n  </thead>\n  <tbody>\n    <tr>\n      <th>1</th>\n      <td>0.0</td>\n      <td>-1.359807</td>\n      <td>-0.072781</td>\n      <td>2.536347</td>\n      <td>1.378155</td>\n      <td>-0.338321</td>\n      <td>0.462388</td>\n      <td>0.239599</td>\n      <td>0.098698</td>\n      <td>0.363787</td>\n      <td>...</td>\n      <td>0.251412</td>\n      <td>-0.018307</td>\n      <td>0.277838</td>\n      <td>-0.110474</td>\n      <td>0.066928</td>\n      <td>0.128539</td>\n      <td>-0.189115</td>\n      <td>0.133558</td>\n      <td>-0.021053</td>\n      <td>149.62</td>\n    </tr>\n    <tr>\n      <th>2</th>\n      <td>0.0</td>\n      <td>1.191857</td>\n      <td>0.266151</td>\n      <td>0.166480</td>\n      <td>0.448154</td>\n      <td>0.060018</td>\n      <td>-0.082361</td>\n      <td>-0.078803</td>\n      <td>0.085102</td>\n      <td>-0.255425</td>\n      <td>...</td>\n      <td>-0.069083</td>\n      <td>-0.225775</td>\n      <td>-0.638672</td>\n      <td>0.101288</td>\n      <td>-0.339846</td>\n      <td>0.167170</td>\n      <td>0.125895</td>\n      <td>-0.008983</td>\n      <td>0.014724</td>\n      <td>2.69</td>\n    </tr>\n    <tr>\n      <th>3</th>\n      <td>1.0</td>\n      <td>-1.358354</td>\n      <td>-1.340163</td>\n      <td>1.773209</td>\n      <td>0.379780</td>\n      <td>-0.503198</td>\n      <td>1.800499</td>\n      <td>0.791461</td>\n      <td>0.247676</td>\n      <td>-1.514654</td>\n      <td>...</td>\n      <td>0.524980</td>\n      <td>0.247998</td>\n      <td>0.771679</td>\n      <td>0.909412</td>\n      <td>-0.689281</td>\n      <td>-0.327642</td>\n      <td>-0.139097</td>\n      <td>-0.055353</td>\n      <td>-0.059752</td>\n      <td>378.66</td>\n    </tr>\n    <tr>\n      <th>4</th>\n      <td>1.0</td>\n      <td>-0.966272</td>\n      <td>-0.185226</td>\n      <td>1.792993</td>\n      <td>-0.863291</td>\n      <td>-0.010309</td>\n      <td>1.247203</td>\n      <td>0.237609</td>\n      <td>0.377436</td>\n      <td>-1.387024</td>\n      <td>...</td>\n      <td>-0.208038</td>\n      <td>-0.108300</td>\n      <td>0.005274</td>\n      <td>-0.190321</td>\n      <td>-1.175575</td>\n      <td>0.647376</td>\n      <td>-0.221929</td>\n      <td>0.062723</td>\n      <td>0.061458</td>\n      <td>123.50</td>\n    </tr>\n    <tr>\n      <th>5</th>\n      <td>2.0</td>\n      <td>-1.158233</td>\n      <td>0.877737</td>\n      <td>1.548718</td>\n      <td>0.403034</td>\n      <td>-0.407193</td>\n      <td>0.095921</td>\n      <td>0.592941</td>\n      <td>-0.270533</td>\n      <td>0.817739</td>\n      <td>...</td>\n      <td>0.408542</td>\n      <td>-0.009431</td>\n      <td>0.798278</td>\n      <td>-0.137458</td>\n      <td>0.141267</td>\n      <td>-0.206010</td>\n      <td>0.502292</td>\n      <td>0.219422</td>\n      <td>0.215153</td>\n      <td>69.99</td>\n    </tr>\n    <tr>\n      <th>...</th>\n      <td>...</td>\n      <td>...</td>\n      <td>...</td>\n      <td>...</td>\n      <td>...</td>\n      <td>...</td>\n      <td>...</td>\n      <td>...</td>\n      <td>...</td>\n      <td>...</td>\n      <td>...</td>\n      <td>...</td>\n      <td>...</td>\n      <td>...</td>\n      <td>...</td>\n      <td>...</td>\n      <td>...</td>\n      <td>...</td>\n      <td>...</td>\n      <td>...</td>\n      <td>...</td>\n    </tr>\n    <tr>\n      <th>284803</th>\n      <td>172786.0</td>\n      <td>-11.881118</td>\n      <td>10.071785</td>\n      <td>-9.834783</td>\n      <td>-2.066656</td>\n      <td>-5.364473</td>\n      <td>-2.606837</td>\n      <td>-4.918215</td>\n      <td>7.305334</td>\n      <td>1.914428</td>\n      <td>...</td>\n      <td>1.475829</td>\n      <td>0.213454</td>\n      <td>0.111864</td>\n      <td>1.014480</td>\n      <td>-0.509348</td>\n      <td>1.436807</td>\n      <td>0.250034</td>\n      <td>0.943651</td>\n      <td>0.823731</td>\n      <td>0.77</td>\n    </tr>\n    <tr>\n      <th>284804</th>\n      <td>172787.0</td>\n      <td>-0.732789</td>\n      <td>-0.055080</td>\n      <td>2.035030</td>\n      <td>-0.738589</td>\n      <td>0.868229</td>\n      <td>1.058415</td>\n      <td>0.024330</td>\n      <td>0.294869</td>\n      <td>0.584800</td>\n      <td>...</td>\n      <td>0.059616</td>\n      <td>0.214205</td>\n      <td>0.924384</td>\n      <td>0.012463</td>\n      <td>-1.016226</td>\n      <td>-0.606624</td>\n      <td>-0.395255</td>\n      <td>0.068472</td>\n      <td>-0.053527</td>\n      <td>24.79</td>\n    </tr>\n    <tr>\n      <th>284805</th>\n      <td>172788.0</td>\n      <td>1.919565</td>\n      <td>-0.301254</td>\n      <td>-3.249640</td>\n      <td>-0.557828</td>\n      <td>2.630515</td>\n      <td>3.031260</td>\n      <td>-0.296827</td>\n      <td>0.708417</td>\n      <td>0.432454</td>\n      <td>...</td>\n      <td>0.001396</td>\n      <td>0.232045</td>\n      <td>0.578229</td>\n      <td>-0.037501</td>\n      <td>0.640134</td>\n      <td>0.265745</td>\n      <td>-0.087371</td>\n      <td>0.004455</td>\n      <td>-0.026561</td>\n      <td>67.88</td>\n    </tr>\n    <tr>\n      <th>284806</th>\n      <td>172788.0</td>\n      <td>-0.240440</td>\n      <td>0.530483</td>\n      <td>0.702510</td>\n      <td>0.689799</td>\n      <td>-0.377961</td>\n      <td>0.623708</td>\n      <td>-0.686180</td>\n      <td>0.679145</td>\n      <td>0.392087</td>\n      <td>...</td>\n      <td>0.127434</td>\n      <td>0.265245</td>\n      <td>0.800049</td>\n      <td>-0.163298</td>\n      <td>0.123205</td>\n      <td>-0.569159</td>\n      <td>0.546668</td>\n      <td>0.108821</td>\n      <td>0.104533</td>\n      <td>10.00</td>\n    </tr>\n    <tr>\n      <th>284807</th>\n      <td>172792.0</td>\n      <td>-0.533413</td>\n      <td>-0.189733</td>\n      <td>0.703337</td>\n      <td>-0.506271</td>\n      <td>-0.012546</td>\n      <td>-0.649617</td>\n      <td>1.577006</td>\n      <td>-0.414650</td>\n      <td>0.486180</td>\n      <td>...</td>\n      <td>0.382948</td>\n      <td>0.261057</td>\n      <td>0.643078</td>\n      <td>0.376777</td>\n      <td>0.008797</td>\n      <td>-0.473649</td>\n      <td>-0.818267</td>\n      <td>-0.002415</td>\n      <td>0.013649</td>\n      <td>217.00</td>\n    </tr>\n  </tbody>\n</table>\n<p>283253 rows × 30 columns</p>\n</div>"
     },
     "execution_count": 48,
     "metadata": {},
     "output_type": "execute_result"
    }
   ],
   "source": [
    "usual = onlinetransaction[onlinetransaction['Type_of_Transaction']== 1]\n",
    "usual= usual.drop(['Type_of_Transaction'],axis=1)\n",
    "usual\n"
   ]
  },
  {
   "cell_type": "code",
   "execution_count": 49,
   "metadata": {
    "ExecuteTime": {
     "start_time": "2023-04-26T20:07:41.441861Z",
     "end_time": "2023-04-26T20:07:41.507307Z"
    }
   },
   "outputs": [
    {
     "data": {
      "text/plain": "        Transaction Time      PCA1      PCA2      PCA3      PCA4      PCA5  \\\n236392          148788.0 -1.243316  1.609117  0.073935  0.044104  0.252773   \n257322          158104.0  1.759211 -0.822211  0.479724  1.564476 -1.065962   \n152727           97448.0  1.962195 -0.535458 -0.069144  0.248542 -0.546271   \n215170          139963.0  2.003566 -0.075661 -2.097099  1.061438  0.822952   \n97209            66114.0  1.132058 -0.082133  1.248544  1.284474 -0.970482   \n...                  ...       ...       ...       ...       ...       ...   \n108771           71064.0  1.267352  0.432068  0.168168  1.024754  0.002684   \n234819          148129.0  2.007718  0.117816 -1.330355  0.557216  0.106885   \n119714           75556.0 -2.463286  2.494336 -0.906520  1.001056 -1.660885   \n128459           78718.0 -0.591691  1.026362  1.420666  0.247068  0.442493   \n187882          127729.0 -0.481424  0.469117  1.041772 -0.033857  1.156664   \n\n            PCA6      PCA7      PCA8      PCA9  ...     PCA20     PCA21  \\\n236392 -0.971955  0.785804  0.180274 -0.478317  ...  0.029509  0.216010   \n257322  0.907331 -1.296932  0.417645  2.046562  ... -0.137479  0.199206   \n152727  0.521580 -1.171987  0.240331  2.503272  ... -0.183205 -0.102001   \n215170 -0.234106  0.433836 -0.106807  0.289681  ... -0.311713  0.027084   \n97209   0.040903 -0.736533  0.273749  0.610460  ... -0.196811  0.160728   \n...          ...       ...       ...       ...  ...       ...       ...   \n108771 -0.734995  0.288856 -0.274365 -0.162487  ... -0.057346  0.017724   \n234819 -0.927059  0.017625 -0.238479  0.500432  ... -0.096392 -0.016501   \n119714 -0.902818 -1.269437  1.988780 -1.091992  ... -0.624707  0.412162   \n128459 -0.391336  0.515025 -0.020817 -0.953954  ...  0.122579 -0.141372   \n187882  0.855409  0.344993  0.300412 -0.331164  ...  0.100019 -0.013623   \n\n           PCA22     PCA23     PCA24     PCA25     PCA26     PCA27     PCA28  \\\n236392  0.606915 -0.536747 -0.150058  0.945900  0.207696 -0.085481  0.080447   \n257322  0.808885  0.131585  0.599992 -0.221731 -0.550338  0.102274 -0.001981   \n152727 -0.001150  0.300010  0.231742 -0.592547  0.417908 -0.052741 -0.051718   \n215170  0.120889 -0.153298 -1.200528  0.500634 -0.436435 -0.037467 -0.081979   \n97209   0.563590 -0.084601  0.330325  0.443870 -0.256201  0.058239  0.022839   \n...          ...       ...       ...       ...       ...       ...       ...   \n108771  0.151436 -0.158200  0.068394  0.772846 -0.310055  0.020288  0.019405   \n234819  0.147621  0.231910  1.055329 -0.153864  0.423915 -0.039730 -0.020843   \n119714  0.474318  0.276991  0.524651 -0.087051 -0.387444 -0.951921 -0.250655   \n128459 -0.479602 -0.123579 -0.011205 -0.316419  0.147507 -0.044566  0.124183   \n187882 -0.115306  0.072042 -0.251985 -0.590200 -1.013367  0.220802  0.209045   \n\n        Amount  \n236392   31.43  \n257322   69.00  \n152727   15.95  \n215170   38.40  \n97209     1.00  \n...        ...  \n108771    5.96  \n234819    7.83  \n119714    5.61  \n128459    1.29  \n187882   35.97  \n\n[473 rows x 30 columns]",
      "text/html": "<div>\n<style scoped>\n    .dataframe tbody tr th:only-of-type {\n        vertical-align: middle;\n    }\n\n    .dataframe tbody tr th {\n        vertical-align: top;\n    }\n\n    .dataframe thead th {\n        text-align: right;\n    }\n</style>\n<table border=\"1\" class=\"dataframe\">\n  <thead>\n    <tr style=\"text-align: right;\">\n      <th></th>\n      <th>Transaction Time</th>\n      <th>PCA1</th>\n      <th>PCA2</th>\n      <th>PCA3</th>\n      <th>PCA4</th>\n      <th>PCA5</th>\n      <th>PCA6</th>\n      <th>PCA7</th>\n      <th>PCA8</th>\n      <th>PCA9</th>\n      <th>...</th>\n      <th>PCA20</th>\n      <th>PCA21</th>\n      <th>PCA22</th>\n      <th>PCA23</th>\n      <th>PCA24</th>\n      <th>PCA25</th>\n      <th>PCA26</th>\n      <th>PCA27</th>\n      <th>PCA28</th>\n      <th>Amount</th>\n    </tr>\n  </thead>\n  <tbody>\n    <tr>\n      <th>236392</th>\n      <td>148788.0</td>\n      <td>-1.243316</td>\n      <td>1.609117</td>\n      <td>0.073935</td>\n      <td>0.044104</td>\n      <td>0.252773</td>\n      <td>-0.971955</td>\n      <td>0.785804</td>\n      <td>0.180274</td>\n      <td>-0.478317</td>\n      <td>...</td>\n      <td>0.029509</td>\n      <td>0.216010</td>\n      <td>0.606915</td>\n      <td>-0.536747</td>\n      <td>-0.150058</td>\n      <td>0.945900</td>\n      <td>0.207696</td>\n      <td>-0.085481</td>\n      <td>0.080447</td>\n      <td>31.43</td>\n    </tr>\n    <tr>\n      <th>257322</th>\n      <td>158104.0</td>\n      <td>1.759211</td>\n      <td>-0.822211</td>\n      <td>0.479724</td>\n      <td>1.564476</td>\n      <td>-1.065962</td>\n      <td>0.907331</td>\n      <td>-1.296932</td>\n      <td>0.417645</td>\n      <td>2.046562</td>\n      <td>...</td>\n      <td>-0.137479</td>\n      <td>0.199206</td>\n      <td>0.808885</td>\n      <td>0.131585</td>\n      <td>0.599992</td>\n      <td>-0.221731</td>\n      <td>-0.550338</td>\n      <td>0.102274</td>\n      <td>-0.001981</td>\n      <td>69.00</td>\n    </tr>\n    <tr>\n      <th>152727</th>\n      <td>97448.0</td>\n      <td>1.962195</td>\n      <td>-0.535458</td>\n      <td>-0.069144</td>\n      <td>0.248542</td>\n      <td>-0.546271</td>\n      <td>0.521580</td>\n      <td>-1.171987</td>\n      <td>0.240331</td>\n      <td>2.503272</td>\n      <td>...</td>\n      <td>-0.183205</td>\n      <td>-0.102001</td>\n      <td>-0.001150</td>\n      <td>0.300010</td>\n      <td>0.231742</td>\n      <td>-0.592547</td>\n      <td>0.417908</td>\n      <td>-0.052741</td>\n      <td>-0.051718</td>\n      <td>15.95</td>\n    </tr>\n    <tr>\n      <th>215170</th>\n      <td>139963.0</td>\n      <td>2.003566</td>\n      <td>-0.075661</td>\n      <td>-2.097099</td>\n      <td>1.061438</td>\n      <td>0.822952</td>\n      <td>-0.234106</td>\n      <td>0.433836</td>\n      <td>-0.106807</td>\n      <td>0.289681</td>\n      <td>...</td>\n      <td>-0.311713</td>\n      <td>0.027084</td>\n      <td>0.120889</td>\n      <td>-0.153298</td>\n      <td>-1.200528</td>\n      <td>0.500634</td>\n      <td>-0.436435</td>\n      <td>-0.037467</td>\n      <td>-0.081979</td>\n      <td>38.40</td>\n    </tr>\n    <tr>\n      <th>97209</th>\n      <td>66114.0</td>\n      <td>1.132058</td>\n      <td>-0.082133</td>\n      <td>1.248544</td>\n      <td>1.284474</td>\n      <td>-0.970482</td>\n      <td>0.040903</td>\n      <td>-0.736533</td>\n      <td>0.273749</td>\n      <td>0.610460</td>\n      <td>...</td>\n      <td>-0.196811</td>\n      <td>0.160728</td>\n      <td>0.563590</td>\n      <td>-0.084601</td>\n      <td>0.330325</td>\n      <td>0.443870</td>\n      <td>-0.256201</td>\n      <td>0.058239</td>\n      <td>0.022839</td>\n      <td>1.00</td>\n    </tr>\n    <tr>\n      <th>...</th>\n      <td>...</td>\n      <td>...</td>\n      <td>...</td>\n      <td>...</td>\n      <td>...</td>\n      <td>...</td>\n      <td>...</td>\n      <td>...</td>\n      <td>...</td>\n      <td>...</td>\n      <td>...</td>\n      <td>...</td>\n      <td>...</td>\n      <td>...</td>\n      <td>...</td>\n      <td>...</td>\n      <td>...</td>\n      <td>...</td>\n      <td>...</td>\n      <td>...</td>\n      <td>...</td>\n    </tr>\n    <tr>\n      <th>108771</th>\n      <td>71064.0</td>\n      <td>1.267352</td>\n      <td>0.432068</td>\n      <td>0.168168</td>\n      <td>1.024754</td>\n      <td>0.002684</td>\n      <td>-0.734995</td>\n      <td>0.288856</td>\n      <td>-0.274365</td>\n      <td>-0.162487</td>\n      <td>...</td>\n      <td>-0.057346</td>\n      <td>0.017724</td>\n      <td>0.151436</td>\n      <td>-0.158200</td>\n      <td>0.068394</td>\n      <td>0.772846</td>\n      <td>-0.310055</td>\n      <td>0.020288</td>\n      <td>0.019405</td>\n      <td>5.96</td>\n    </tr>\n    <tr>\n      <th>234819</th>\n      <td>148129.0</td>\n      <td>2.007718</td>\n      <td>0.117816</td>\n      <td>-1.330355</td>\n      <td>0.557216</td>\n      <td>0.106885</td>\n      <td>-0.927059</td>\n      <td>0.017625</td>\n      <td>-0.238479</td>\n      <td>0.500432</td>\n      <td>...</td>\n      <td>-0.096392</td>\n      <td>-0.016501</td>\n      <td>0.147621</td>\n      <td>0.231910</td>\n      <td>1.055329</td>\n      <td>-0.153864</td>\n      <td>0.423915</td>\n      <td>-0.039730</td>\n      <td>-0.020843</td>\n      <td>7.83</td>\n    </tr>\n    <tr>\n      <th>119714</th>\n      <td>75556.0</td>\n      <td>-2.463286</td>\n      <td>2.494336</td>\n      <td>-0.906520</td>\n      <td>1.001056</td>\n      <td>-1.660885</td>\n      <td>-0.902818</td>\n      <td>-1.269437</td>\n      <td>1.988780</td>\n      <td>-1.091992</td>\n      <td>...</td>\n      <td>-0.624707</td>\n      <td>0.412162</td>\n      <td>0.474318</td>\n      <td>0.276991</td>\n      <td>0.524651</td>\n      <td>-0.087051</td>\n      <td>-0.387444</td>\n      <td>-0.951921</td>\n      <td>-0.250655</td>\n      <td>5.61</td>\n    </tr>\n    <tr>\n      <th>128459</th>\n      <td>78718.0</td>\n      <td>-0.591691</td>\n      <td>1.026362</td>\n      <td>1.420666</td>\n      <td>0.247068</td>\n      <td>0.442493</td>\n      <td>-0.391336</td>\n      <td>0.515025</td>\n      <td>-0.020817</td>\n      <td>-0.953954</td>\n      <td>...</td>\n      <td>0.122579</td>\n      <td>-0.141372</td>\n      <td>-0.479602</td>\n      <td>-0.123579</td>\n      <td>-0.011205</td>\n      <td>-0.316419</td>\n      <td>0.147507</td>\n      <td>-0.044566</td>\n      <td>0.124183</td>\n      <td>1.29</td>\n    </tr>\n    <tr>\n      <th>187882</th>\n      <td>127729.0</td>\n      <td>-0.481424</td>\n      <td>0.469117</td>\n      <td>1.041772</td>\n      <td>-0.033857</td>\n      <td>1.156664</td>\n      <td>0.855409</td>\n      <td>0.344993</td>\n      <td>0.300412</td>\n      <td>-0.331164</td>\n      <td>...</td>\n      <td>0.100019</td>\n      <td>-0.013623</td>\n      <td>-0.115306</td>\n      <td>0.072042</td>\n      <td>-0.251985</td>\n      <td>-0.590200</td>\n      <td>-1.013367</td>\n      <td>0.220802</td>\n      <td>0.209045</td>\n      <td>35.97</td>\n    </tr>\n  </tbody>\n</table>\n<p>473 rows × 30 columns</p>\n</div>"
     },
     "execution_count": 49,
     "metadata": {},
     "output_type": "execute_result"
    }
   ],
   "source": [
    "usual_sample = usual.sample(n = 473)\n",
    "usual_sample"
   ]
  },
  {
   "cell_type": "code",
   "execution_count": 62,
   "metadata": {
    "ExecuteTime": {
     "start_time": "2023-04-26T20:36:23.151799Z",
     "end_time": "2023-04-26T20:36:24.045000Z"
    }
   },
   "outputs": [
    {
     "data": {
      "application/vnd.plotly.v1+json": {
       "data": [
        {
         "alignmentgroup": "True",
         "hovertemplate": "Column=%{x}<br>Mean=%{y}<extra></extra>",
         "legendgroup": "",
         "marker": {
          "color": "#636efa",
          "pattern": {
           "shape": ""
          }
         },
         "name": "",
         "offsetgroup": "",
         "orientation": "v",
         "showlegend": false,
         "textposition": "auto",
         "x": [
          "Transaction Time",
          "PCA1",
          "PCA2",
          "PCA3",
          "PCA4",
          "PCA5",
          "PCA6",
          "PCA7",
          "PCA8",
          "PCA9",
          "PCA10",
          "PCA11",
          "PCA12",
          "PCA13",
          "PCA14",
          "PCA15",
          "PCA16",
          "PCA17",
          "PCA18",
          "PCA19",
          "PCA20",
          "PCA21",
          "PCA22",
          "PCA23",
          "PCA24",
          "PCA25",
          "PCA26",
          "PCA27",
          "PCA28",
          "Amount"
         ],
         "xaxis": "x",
         "y": [
          0.11900156441894373,
          -0.004090581489654536,
          -0.05176620211682773,
          -0.08858458116741488,
          0.008865799141928763,
          0.04581578686861937,
          0.23636963708026656,
          -0.027843053549296434,
          -0.04515366810522349,
          0.04358167429664644,
          0.10100100695737041,
          0.01897030229786074,
          -0.12844292072498564,
          0.010427768230260426,
          -0.04348059094337538,
          -0.0391936192564292,
          -0.06097372506703816,
          0.0862378564544324,
          0.006562984151155128,
          -0.004508971081522857,
          0.18021150491740223,
          0.06921894911568184,
          -0.006382295875543134,
          0.03699839891990679,
          -0.05126433179567392,
          -0.024687505834847374,
          0.0923632730927815,
          2.529269308001426E-4,
          -0.08274597707122451,
          0.9251089950511852
         ],
         "yaxis": "y",
         "type": "bar"
        }
       ],
       "layout": {
        "template": {
         "data": {
          "histogram2dcontour": [
           {
            "type": "histogram2dcontour",
            "colorbar": {
             "outlinewidth": 0,
             "ticks": ""
            },
            "colorscale": [
             [
              0.0,
              "#0d0887"
             ],
             [
              0.1111111111111111,
              "#46039f"
             ],
             [
              0.2222222222222222,
              "#7201a8"
             ],
             [
              0.3333333333333333,
              "#9c179e"
             ],
             [
              0.4444444444444444,
              "#bd3786"
             ],
             [
              0.5555555555555556,
              "#d8576b"
             ],
             [
              0.6666666666666666,
              "#ed7953"
             ],
             [
              0.7777777777777778,
              "#fb9f3a"
             ],
             [
              0.8888888888888888,
              "#fdca26"
             ],
             [
              1.0,
              "#f0f921"
             ]
            ]
           }
          ],
          "choropleth": [
           {
            "type": "choropleth",
            "colorbar": {
             "outlinewidth": 0,
             "ticks": ""
            }
           }
          ],
          "histogram2d": [
           {
            "type": "histogram2d",
            "colorbar": {
             "outlinewidth": 0,
             "ticks": ""
            },
            "colorscale": [
             [
              0.0,
              "#0d0887"
             ],
             [
              0.1111111111111111,
              "#46039f"
             ],
             [
              0.2222222222222222,
              "#7201a8"
             ],
             [
              0.3333333333333333,
              "#9c179e"
             ],
             [
              0.4444444444444444,
              "#bd3786"
             ],
             [
              0.5555555555555556,
              "#d8576b"
             ],
             [
              0.6666666666666666,
              "#ed7953"
             ],
             [
              0.7777777777777778,
              "#fb9f3a"
             ],
             [
              0.8888888888888888,
              "#fdca26"
             ],
             [
              1.0,
              "#f0f921"
             ]
            ]
           }
          ],
          "heatmap": [
           {
            "type": "heatmap",
            "colorbar": {
             "outlinewidth": 0,
             "ticks": ""
            },
            "colorscale": [
             [
              0.0,
              "#0d0887"
             ],
             [
              0.1111111111111111,
              "#46039f"
             ],
             [
              0.2222222222222222,
              "#7201a8"
             ],
             [
              0.3333333333333333,
              "#9c179e"
             ],
             [
              0.4444444444444444,
              "#bd3786"
             ],
             [
              0.5555555555555556,
              "#d8576b"
             ],
             [
              0.6666666666666666,
              "#ed7953"
             ],
             [
              0.7777777777777778,
              "#fb9f3a"
             ],
             [
              0.8888888888888888,
              "#fdca26"
             ],
             [
              1.0,
              "#f0f921"
             ]
            ]
           }
          ],
          "heatmapgl": [
           {
            "type": "heatmapgl",
            "colorbar": {
             "outlinewidth": 0,
             "ticks": ""
            },
            "colorscale": [
             [
              0.0,
              "#0d0887"
             ],
             [
              0.1111111111111111,
              "#46039f"
             ],
             [
              0.2222222222222222,
              "#7201a8"
             ],
             [
              0.3333333333333333,
              "#9c179e"
             ],
             [
              0.4444444444444444,
              "#bd3786"
             ],
             [
              0.5555555555555556,
              "#d8576b"
             ],
             [
              0.6666666666666666,
              "#ed7953"
             ],
             [
              0.7777777777777778,
              "#fb9f3a"
             ],
             [
              0.8888888888888888,
              "#fdca26"
             ],
             [
              1.0,
              "#f0f921"
             ]
            ]
           }
          ],
          "contourcarpet": [
           {
            "type": "contourcarpet",
            "colorbar": {
             "outlinewidth": 0,
             "ticks": ""
            }
           }
          ],
          "contour": [
           {
            "type": "contour",
            "colorbar": {
             "outlinewidth": 0,
             "ticks": ""
            },
            "colorscale": [
             [
              0.0,
              "#0d0887"
             ],
             [
              0.1111111111111111,
              "#46039f"
             ],
             [
              0.2222222222222222,
              "#7201a8"
             ],
             [
              0.3333333333333333,
              "#9c179e"
             ],
             [
              0.4444444444444444,
              "#bd3786"
             ],
             [
              0.5555555555555556,
              "#d8576b"
             ],
             [
              0.6666666666666666,
              "#ed7953"
             ],
             [
              0.7777777777777778,
              "#fb9f3a"
             ],
             [
              0.8888888888888888,
              "#fdca26"
             ],
             [
              1.0,
              "#f0f921"
             ]
            ]
           }
          ],
          "surface": [
           {
            "type": "surface",
            "colorbar": {
             "outlinewidth": 0,
             "ticks": ""
            },
            "colorscale": [
             [
              0.0,
              "#0d0887"
             ],
             [
              0.1111111111111111,
              "#46039f"
             ],
             [
              0.2222222222222222,
              "#7201a8"
             ],
             [
              0.3333333333333333,
              "#9c179e"
             ],
             [
              0.4444444444444444,
              "#bd3786"
             ],
             [
              0.5555555555555556,
              "#d8576b"
             ],
             [
              0.6666666666666666,
              "#ed7953"
             ],
             [
              0.7777777777777778,
              "#fb9f3a"
             ],
             [
              0.8888888888888888,
              "#fdca26"
             ],
             [
              1.0,
              "#f0f921"
             ]
            ]
           }
          ],
          "mesh3d": [
           {
            "type": "mesh3d",
            "colorbar": {
             "outlinewidth": 0,
             "ticks": ""
            }
           }
          ],
          "scatter": [
           {
            "marker": {
             "line": {
              "color": "#283442"
             }
            },
            "type": "scatter"
           }
          ],
          "parcoords": [
           {
            "type": "parcoords",
            "line": {
             "colorbar": {
              "outlinewidth": 0,
              "ticks": ""
             }
            }
           }
          ],
          "scatterpolargl": [
           {
            "type": "scatterpolargl",
            "marker": {
             "colorbar": {
              "outlinewidth": 0,
              "ticks": ""
             }
            }
           }
          ],
          "bar": [
           {
            "error_x": {
             "color": "#f2f5fa"
            },
            "error_y": {
             "color": "#f2f5fa"
            },
            "marker": {
             "line": {
              "color": "rgb(17,17,17)",
              "width": 0.5
             },
             "pattern": {
              "fillmode": "overlay",
              "size": 10,
              "solidity": 0.2
             }
            },
            "type": "bar"
           }
          ],
          "scattergeo": [
           {
            "type": "scattergeo",
            "marker": {
             "colorbar": {
              "outlinewidth": 0,
              "ticks": ""
             }
            }
           }
          ],
          "scatterpolar": [
           {
            "type": "scatterpolar",
            "marker": {
             "colorbar": {
              "outlinewidth": 0,
              "ticks": ""
             }
            }
           }
          ],
          "histogram": [
           {
            "marker": {
             "pattern": {
              "fillmode": "overlay",
              "size": 10,
              "solidity": 0.2
             }
            },
            "type": "histogram"
           }
          ],
          "scattergl": [
           {
            "marker": {
             "line": {
              "color": "#283442"
             }
            },
            "type": "scattergl"
           }
          ],
          "scatter3d": [
           {
            "type": "scatter3d",
            "line": {
             "colorbar": {
              "outlinewidth": 0,
              "ticks": ""
             }
            },
            "marker": {
             "colorbar": {
              "outlinewidth": 0,
              "ticks": ""
             }
            }
           }
          ],
          "scattermapbox": [
           {
            "type": "scattermapbox",
            "marker": {
             "colorbar": {
              "outlinewidth": 0,
              "ticks": ""
             }
            }
           }
          ],
          "scatterternary": [
           {
            "type": "scatterternary",
            "marker": {
             "colorbar": {
              "outlinewidth": 0,
              "ticks": ""
             }
            }
           }
          ],
          "scattercarpet": [
           {
            "type": "scattercarpet",
            "marker": {
             "colorbar": {
              "outlinewidth": 0,
              "ticks": ""
             }
            }
           }
          ],
          "carpet": [
           {
            "aaxis": {
             "endlinecolor": "#A2B1C6",
             "gridcolor": "#506784",
             "linecolor": "#506784",
             "minorgridcolor": "#506784",
             "startlinecolor": "#A2B1C6"
            },
            "baxis": {
             "endlinecolor": "#A2B1C6",
             "gridcolor": "#506784",
             "linecolor": "#506784",
             "minorgridcolor": "#506784",
             "startlinecolor": "#A2B1C6"
            },
            "type": "carpet"
           }
          ],
          "table": [
           {
            "cells": {
             "fill": {
              "color": "#506784"
             },
             "line": {
              "color": "rgb(17,17,17)"
             }
            },
            "header": {
             "fill": {
              "color": "#2a3f5f"
             },
             "line": {
              "color": "rgb(17,17,17)"
             }
            },
            "type": "table"
           }
          ],
          "barpolar": [
           {
            "marker": {
             "line": {
              "color": "rgb(17,17,17)",
              "width": 0.5
             },
             "pattern": {
              "fillmode": "overlay",
              "size": 10,
              "solidity": 0.2
             }
            },
            "type": "barpolar"
           }
          ],
          "pie": [
           {
            "automargin": true,
            "type": "pie"
           }
          ]
         },
         "layout": {
          "autotypenumbers": "strict",
          "colorway": [
           "#636efa",
           "#EF553B",
           "#00cc96",
           "#ab63fa",
           "#FFA15A",
           "#19d3f3",
           "#FF6692",
           "#B6E880",
           "#FF97FF",
           "#FECB52"
          ],
          "font": {
           "color": "#f2f5fa"
          },
          "hovermode": "closest",
          "hoverlabel": {
           "align": "left"
          },
          "paper_bgcolor": "rgb(17,17,17)",
          "plot_bgcolor": "rgb(17,17,17)",
          "polar": {
           "bgcolor": "rgb(17,17,17)",
           "angularaxis": {
            "gridcolor": "#506784",
            "linecolor": "#506784",
            "ticks": ""
           },
           "radialaxis": {
            "gridcolor": "#506784",
            "linecolor": "#506784",
            "ticks": ""
           }
          },
          "ternary": {
           "bgcolor": "rgb(17,17,17)",
           "aaxis": {
            "gridcolor": "#506784",
            "linecolor": "#506784",
            "ticks": ""
           },
           "baxis": {
            "gridcolor": "#506784",
            "linecolor": "#506784",
            "ticks": ""
           },
           "caxis": {
            "gridcolor": "#506784",
            "linecolor": "#506784",
            "ticks": ""
           }
          },
          "coloraxis": {
           "colorbar": {
            "outlinewidth": 0,
            "ticks": ""
           }
          },
          "colorscale": {
           "sequential": [
            [
             0.0,
             "#0d0887"
            ],
            [
             0.1111111111111111,
             "#46039f"
            ],
            [
             0.2222222222222222,
             "#7201a8"
            ],
            [
             0.3333333333333333,
             "#9c179e"
            ],
            [
             0.4444444444444444,
             "#bd3786"
            ],
            [
             0.5555555555555556,
             "#d8576b"
            ],
            [
             0.6666666666666666,
             "#ed7953"
            ],
            [
             0.7777777777777778,
             "#fb9f3a"
            ],
            [
             0.8888888888888888,
             "#fdca26"
            ],
            [
             1.0,
             "#f0f921"
            ]
           ],
           "sequentialminus": [
            [
             0.0,
             "#0d0887"
            ],
            [
             0.1111111111111111,
             "#46039f"
            ],
            [
             0.2222222222222222,
             "#7201a8"
            ],
            [
             0.3333333333333333,
             "#9c179e"
            ],
            [
             0.4444444444444444,
             "#bd3786"
            ],
            [
             0.5555555555555556,
             "#d8576b"
            ],
            [
             0.6666666666666666,
             "#ed7953"
            ],
            [
             0.7777777777777778,
             "#fb9f3a"
            ],
            [
             0.8888888888888888,
             "#fdca26"
            ],
            [
             1.0,
             "#f0f921"
            ]
           ],
           "diverging": [
            [
             0,
             "#8e0152"
            ],
            [
             0.1,
             "#c51b7d"
            ],
            [
             0.2,
             "#de77ae"
            ],
            [
             0.3,
             "#f1b6da"
            ],
            [
             0.4,
             "#fde0ef"
            ],
            [
             0.5,
             "#f7f7f7"
            ],
            [
             0.6,
             "#e6f5d0"
            ],
            [
             0.7,
             "#b8e186"
            ],
            [
             0.8,
             "#7fbc41"
            ],
            [
             0.9,
             "#4d9221"
            ],
            [
             1,
             "#276419"
            ]
           ]
          },
          "xaxis": {
           "gridcolor": "#283442",
           "linecolor": "#506784",
           "ticks": "",
           "title": {
            "standoff": 15
           },
           "zerolinecolor": "#283442",
           "automargin": true,
           "zerolinewidth": 2
          },
          "yaxis": {
           "gridcolor": "#283442",
           "linecolor": "#506784",
           "ticks": "",
           "title": {
            "standoff": 15
           },
           "zerolinecolor": "#283442",
           "automargin": true,
           "zerolinewidth": 2
          },
          "scene": {
           "xaxis": {
            "backgroundcolor": "rgb(17,17,17)",
            "gridcolor": "#506784",
            "linecolor": "#506784",
            "showbackground": true,
            "ticks": "",
            "zerolinecolor": "#C8D4E3",
            "gridwidth": 2
           },
           "yaxis": {
            "backgroundcolor": "rgb(17,17,17)",
            "gridcolor": "#506784",
            "linecolor": "#506784",
            "showbackground": true,
            "ticks": "",
            "zerolinecolor": "#C8D4E3",
            "gridwidth": 2
           },
           "zaxis": {
            "backgroundcolor": "rgb(17,17,17)",
            "gridcolor": "#506784",
            "linecolor": "#506784",
            "showbackground": true,
            "ticks": "",
            "zerolinecolor": "#C8D4E3",
            "gridwidth": 2
           }
          },
          "shapedefaults": {
           "line": {
            "color": "#f2f5fa"
           }
          },
          "annotationdefaults": {
           "arrowcolor": "#f2f5fa",
           "arrowhead": 0,
           "arrowwidth": 1
          },
          "geo": {
           "bgcolor": "rgb(17,17,17)",
           "landcolor": "rgb(17,17,17)",
           "subunitcolor": "#506784",
           "showland": true,
           "showlakes": true,
           "lakecolor": "rgb(17,17,17)"
          },
          "title": {
           "x": 0.05
          },
          "updatemenudefaults": {
           "bgcolor": "#506784",
           "borderwidth": 0
          },
          "sliderdefaults": {
           "bgcolor": "#C8D4E3",
           "borderwidth": 1,
           "bordercolor": "rgb(17,17,17)",
           "tickwidth": 0
          },
          "mapbox": {
           "style": "dark"
          }
         }
        },
        "xaxis": {
         "anchor": "y",
         "domain": [
          0.0,
          1.0
         ],
         "title": {
          "text": "Column"
         }
        },
        "yaxis": {
         "anchor": "x",
         "domain": [
          0.0,
          1.0
         ],
         "title": {
          "text": "Mean"
         }
        },
        "legend": {
         "tracegroupgap": 0
        },
        "title": {
         "text": "Mean of Values in Each Column For Usual Transactions"
        },
        "barmode": "relative"
       },
       "config": {
        "plotlyServerURL": "https://plot.ly"
       }
      },
      "text/html": "<div>                            <div id=\"7db6c5f2-51f1-4dfa-bc70-7b7bf69f5457\" class=\"plotly-graph-div\" style=\"height:525px; width:100%;\"></div>            <script type=\"text/javascript\">                require([\"plotly\"], function(Plotly) {                    window.PLOTLYENV=window.PLOTLYENV || {};                                    if (document.getElementById(\"7db6c5f2-51f1-4dfa-bc70-7b7bf69f5457\")) {                    Plotly.newPlot(                        \"7db6c5f2-51f1-4dfa-bc70-7b7bf69f5457\",                        [{\"alignmentgroup\":\"True\",\"hovertemplate\":\"Column=%{x}<br>Mean=%{y}<extra></extra>\",\"legendgroup\":\"\",\"marker\":{\"color\":\"#636efa\",\"pattern\":{\"shape\":\"\"}},\"name\":\"\",\"offsetgroup\":\"\",\"orientation\":\"v\",\"showlegend\":false,\"textposition\":\"auto\",\"x\":[\"Transaction Time\",\"PCA1\",\"PCA2\",\"PCA3\",\"PCA4\",\"PCA5\",\"PCA6\",\"PCA7\",\"PCA8\",\"PCA9\",\"PCA10\",\"PCA11\",\"PCA12\",\"PCA13\",\"PCA14\",\"PCA15\",\"PCA16\",\"PCA17\",\"PCA18\",\"PCA19\",\"PCA20\",\"PCA21\",\"PCA22\",\"PCA23\",\"PCA24\",\"PCA25\",\"PCA26\",\"PCA27\",\"PCA28\",\"Amount\"],\"xaxis\":\"x\",\"y\":[0.11900156441894373,-0.004090581489654536,-0.05176620211682773,-0.08858458116741488,0.008865799141928763,0.04581578686861937,0.23636963708026656,-0.027843053549296434,-0.04515366810522349,0.04358167429664644,0.10100100695737041,0.01897030229786074,-0.12844292072498564,0.010427768230260426,-0.04348059094337538,-0.0391936192564292,-0.06097372506703816,0.0862378564544324,0.006562984151155128,-0.004508971081522857,0.18021150491740223,0.06921894911568184,-0.006382295875543134,0.03699839891990679,-0.05126433179567392,-0.024687505834847374,0.0923632730927815,0.0002529269308001426,-0.08274597707122451,0.9251089950511852],\"yaxis\":\"y\",\"type\":\"bar\"}],                        {\"template\":{\"data\":{\"histogram2dcontour\":[{\"type\":\"histogram2dcontour\",\"colorbar\":{\"outlinewidth\":0,\"ticks\":\"\"},\"colorscale\":[[0.0,\"#0d0887\"],[0.1111111111111111,\"#46039f\"],[0.2222222222222222,\"#7201a8\"],[0.3333333333333333,\"#9c179e\"],[0.4444444444444444,\"#bd3786\"],[0.5555555555555556,\"#d8576b\"],[0.6666666666666666,\"#ed7953\"],[0.7777777777777778,\"#fb9f3a\"],[0.8888888888888888,\"#fdca26\"],[1.0,\"#f0f921\"]]}],\"choropleth\":[{\"type\":\"choropleth\",\"colorbar\":{\"outlinewidth\":0,\"ticks\":\"\"}}],\"histogram2d\":[{\"type\":\"histogram2d\",\"colorbar\":{\"outlinewidth\":0,\"ticks\":\"\"},\"colorscale\":[[0.0,\"#0d0887\"],[0.1111111111111111,\"#46039f\"],[0.2222222222222222,\"#7201a8\"],[0.3333333333333333,\"#9c179e\"],[0.4444444444444444,\"#bd3786\"],[0.5555555555555556,\"#d8576b\"],[0.6666666666666666,\"#ed7953\"],[0.7777777777777778,\"#fb9f3a\"],[0.8888888888888888,\"#fdca26\"],[1.0,\"#f0f921\"]]}],\"heatmap\":[{\"type\":\"heatmap\",\"colorbar\":{\"outlinewidth\":0,\"ticks\":\"\"},\"colorscale\":[[0.0,\"#0d0887\"],[0.1111111111111111,\"#46039f\"],[0.2222222222222222,\"#7201a8\"],[0.3333333333333333,\"#9c179e\"],[0.4444444444444444,\"#bd3786\"],[0.5555555555555556,\"#d8576b\"],[0.6666666666666666,\"#ed7953\"],[0.7777777777777778,\"#fb9f3a\"],[0.8888888888888888,\"#fdca26\"],[1.0,\"#f0f921\"]]}],\"heatmapgl\":[{\"type\":\"heatmapgl\",\"colorbar\":{\"outlinewidth\":0,\"ticks\":\"\"},\"colorscale\":[[0.0,\"#0d0887\"],[0.1111111111111111,\"#46039f\"],[0.2222222222222222,\"#7201a8\"],[0.3333333333333333,\"#9c179e\"],[0.4444444444444444,\"#bd3786\"],[0.5555555555555556,\"#d8576b\"],[0.6666666666666666,\"#ed7953\"],[0.7777777777777778,\"#fb9f3a\"],[0.8888888888888888,\"#fdca26\"],[1.0,\"#f0f921\"]]}],\"contourcarpet\":[{\"type\":\"contourcarpet\",\"colorbar\":{\"outlinewidth\":0,\"ticks\":\"\"}}],\"contour\":[{\"type\":\"contour\",\"colorbar\":{\"outlinewidth\":0,\"ticks\":\"\"},\"colorscale\":[[0.0,\"#0d0887\"],[0.1111111111111111,\"#46039f\"],[0.2222222222222222,\"#7201a8\"],[0.3333333333333333,\"#9c179e\"],[0.4444444444444444,\"#bd3786\"],[0.5555555555555556,\"#d8576b\"],[0.6666666666666666,\"#ed7953\"],[0.7777777777777778,\"#fb9f3a\"],[0.8888888888888888,\"#fdca26\"],[1.0,\"#f0f921\"]]}],\"surface\":[{\"type\":\"surface\",\"colorbar\":{\"outlinewidth\":0,\"ticks\":\"\"},\"colorscale\":[[0.0,\"#0d0887\"],[0.1111111111111111,\"#46039f\"],[0.2222222222222222,\"#7201a8\"],[0.3333333333333333,\"#9c179e\"],[0.4444444444444444,\"#bd3786\"],[0.5555555555555556,\"#d8576b\"],[0.6666666666666666,\"#ed7953\"],[0.7777777777777778,\"#fb9f3a\"],[0.8888888888888888,\"#fdca26\"],[1.0,\"#f0f921\"]]}],\"mesh3d\":[{\"type\":\"mesh3d\",\"colorbar\":{\"outlinewidth\":0,\"ticks\":\"\"}}],\"scatter\":[{\"marker\":{\"line\":{\"color\":\"#283442\"}},\"type\":\"scatter\"}],\"parcoords\":[{\"type\":\"parcoords\",\"line\":{\"colorbar\":{\"outlinewidth\":0,\"ticks\":\"\"}}}],\"scatterpolargl\":[{\"type\":\"scatterpolargl\",\"marker\":{\"colorbar\":{\"outlinewidth\":0,\"ticks\":\"\"}}}],\"bar\":[{\"error_x\":{\"color\":\"#f2f5fa\"},\"error_y\":{\"color\":\"#f2f5fa\"},\"marker\":{\"line\":{\"color\":\"rgb(17,17,17)\",\"width\":0.5},\"pattern\":{\"fillmode\":\"overlay\",\"size\":10,\"solidity\":0.2}},\"type\":\"bar\"}],\"scattergeo\":[{\"type\":\"scattergeo\",\"marker\":{\"colorbar\":{\"outlinewidth\":0,\"ticks\":\"\"}}}],\"scatterpolar\":[{\"type\":\"scatterpolar\",\"marker\":{\"colorbar\":{\"outlinewidth\":0,\"ticks\":\"\"}}}],\"histogram\":[{\"marker\":{\"pattern\":{\"fillmode\":\"overlay\",\"size\":10,\"solidity\":0.2}},\"type\":\"histogram\"}],\"scattergl\":[{\"marker\":{\"line\":{\"color\":\"#283442\"}},\"type\":\"scattergl\"}],\"scatter3d\":[{\"type\":\"scatter3d\",\"line\":{\"colorbar\":{\"outlinewidth\":0,\"ticks\":\"\"}},\"marker\":{\"colorbar\":{\"outlinewidth\":0,\"ticks\":\"\"}}}],\"scattermapbox\":[{\"type\":\"scattermapbox\",\"marker\":{\"colorbar\":{\"outlinewidth\":0,\"ticks\":\"\"}}}],\"scatterternary\":[{\"type\":\"scatterternary\",\"marker\":{\"colorbar\":{\"outlinewidth\":0,\"ticks\":\"\"}}}],\"scattercarpet\":[{\"type\":\"scattercarpet\",\"marker\":{\"colorbar\":{\"outlinewidth\":0,\"ticks\":\"\"}}}],\"carpet\":[{\"aaxis\":{\"endlinecolor\":\"#A2B1C6\",\"gridcolor\":\"#506784\",\"linecolor\":\"#506784\",\"minorgridcolor\":\"#506784\",\"startlinecolor\":\"#A2B1C6\"},\"baxis\":{\"endlinecolor\":\"#A2B1C6\",\"gridcolor\":\"#506784\",\"linecolor\":\"#506784\",\"minorgridcolor\":\"#506784\",\"startlinecolor\":\"#A2B1C6\"},\"type\":\"carpet\"}],\"table\":[{\"cells\":{\"fill\":{\"color\":\"#506784\"},\"line\":{\"color\":\"rgb(17,17,17)\"}},\"header\":{\"fill\":{\"color\":\"#2a3f5f\"},\"line\":{\"color\":\"rgb(17,17,17)\"}},\"type\":\"table\"}],\"barpolar\":[{\"marker\":{\"line\":{\"color\":\"rgb(17,17,17)\",\"width\":0.5},\"pattern\":{\"fillmode\":\"overlay\",\"size\":10,\"solidity\":0.2}},\"type\":\"barpolar\"}],\"pie\":[{\"automargin\":true,\"type\":\"pie\"}]},\"layout\":{\"autotypenumbers\":\"strict\",\"colorway\":[\"#636efa\",\"#EF553B\",\"#00cc96\",\"#ab63fa\",\"#FFA15A\",\"#19d3f3\",\"#FF6692\",\"#B6E880\",\"#FF97FF\",\"#FECB52\"],\"font\":{\"color\":\"#f2f5fa\"},\"hovermode\":\"closest\",\"hoverlabel\":{\"align\":\"left\"},\"paper_bgcolor\":\"rgb(17,17,17)\",\"plot_bgcolor\":\"rgb(17,17,17)\",\"polar\":{\"bgcolor\":\"rgb(17,17,17)\",\"angularaxis\":{\"gridcolor\":\"#506784\",\"linecolor\":\"#506784\",\"ticks\":\"\"},\"radialaxis\":{\"gridcolor\":\"#506784\",\"linecolor\":\"#506784\",\"ticks\":\"\"}},\"ternary\":{\"bgcolor\":\"rgb(17,17,17)\",\"aaxis\":{\"gridcolor\":\"#506784\",\"linecolor\":\"#506784\",\"ticks\":\"\"},\"baxis\":{\"gridcolor\":\"#506784\",\"linecolor\":\"#506784\",\"ticks\":\"\"},\"caxis\":{\"gridcolor\":\"#506784\",\"linecolor\":\"#506784\",\"ticks\":\"\"}},\"coloraxis\":{\"colorbar\":{\"outlinewidth\":0,\"ticks\":\"\"}},\"colorscale\":{\"sequential\":[[0.0,\"#0d0887\"],[0.1111111111111111,\"#46039f\"],[0.2222222222222222,\"#7201a8\"],[0.3333333333333333,\"#9c179e\"],[0.4444444444444444,\"#bd3786\"],[0.5555555555555556,\"#d8576b\"],[0.6666666666666666,\"#ed7953\"],[0.7777777777777778,\"#fb9f3a\"],[0.8888888888888888,\"#fdca26\"],[1.0,\"#f0f921\"]],\"sequentialminus\":[[0.0,\"#0d0887\"],[0.1111111111111111,\"#46039f\"],[0.2222222222222222,\"#7201a8\"],[0.3333333333333333,\"#9c179e\"],[0.4444444444444444,\"#bd3786\"],[0.5555555555555556,\"#d8576b\"],[0.6666666666666666,\"#ed7953\"],[0.7777777777777778,\"#fb9f3a\"],[0.8888888888888888,\"#fdca26\"],[1.0,\"#f0f921\"]],\"diverging\":[[0,\"#8e0152\"],[0.1,\"#c51b7d\"],[0.2,\"#de77ae\"],[0.3,\"#f1b6da\"],[0.4,\"#fde0ef\"],[0.5,\"#f7f7f7\"],[0.6,\"#e6f5d0\"],[0.7,\"#b8e186\"],[0.8,\"#7fbc41\"],[0.9,\"#4d9221\"],[1,\"#276419\"]]},\"xaxis\":{\"gridcolor\":\"#283442\",\"linecolor\":\"#506784\",\"ticks\":\"\",\"title\":{\"standoff\":15},\"zerolinecolor\":\"#283442\",\"automargin\":true,\"zerolinewidth\":2},\"yaxis\":{\"gridcolor\":\"#283442\",\"linecolor\":\"#506784\",\"ticks\":\"\",\"title\":{\"standoff\":15},\"zerolinecolor\":\"#283442\",\"automargin\":true,\"zerolinewidth\":2},\"scene\":{\"xaxis\":{\"backgroundcolor\":\"rgb(17,17,17)\",\"gridcolor\":\"#506784\",\"linecolor\":\"#506784\",\"showbackground\":true,\"ticks\":\"\",\"zerolinecolor\":\"#C8D4E3\",\"gridwidth\":2},\"yaxis\":{\"backgroundcolor\":\"rgb(17,17,17)\",\"gridcolor\":\"#506784\",\"linecolor\":\"#506784\",\"showbackground\":true,\"ticks\":\"\",\"zerolinecolor\":\"#C8D4E3\",\"gridwidth\":2},\"zaxis\":{\"backgroundcolor\":\"rgb(17,17,17)\",\"gridcolor\":\"#506784\",\"linecolor\":\"#506784\",\"showbackground\":true,\"ticks\":\"\",\"zerolinecolor\":\"#C8D4E3\",\"gridwidth\":2}},\"shapedefaults\":{\"line\":{\"color\":\"#f2f5fa\"}},\"annotationdefaults\":{\"arrowcolor\":\"#f2f5fa\",\"arrowhead\":0,\"arrowwidth\":1},\"geo\":{\"bgcolor\":\"rgb(17,17,17)\",\"landcolor\":\"rgb(17,17,17)\",\"subunitcolor\":\"#506784\",\"showland\":true,\"showlakes\":true,\"lakecolor\":\"rgb(17,17,17)\"},\"title\":{\"x\":0.05},\"updatemenudefaults\":{\"bgcolor\":\"#506784\",\"borderwidth\":0},\"sliderdefaults\":{\"bgcolor\":\"#C8D4E3\",\"borderwidth\":1,\"bordercolor\":\"rgb(17,17,17)\",\"tickwidth\":0},\"mapbox\":{\"style\":\"dark\"}}},\"xaxis\":{\"anchor\":\"y\",\"domain\":[0.0,1.0],\"title\":{\"text\":\"Column\"}},\"yaxis\":{\"anchor\":\"x\",\"domain\":[0.0,1.0],\"title\":{\"text\":\"Mean\"}},\"legend\":{\"tracegroupgap\":0},\"title\":{\"text\":\"Mean of Values in Each Column For Usual Transactions\"},\"barmode\":\"relative\"},                        {\"responsive\": true}                    ).then(function(){\n                            \nvar gd = document.getElementById('7db6c5f2-51f1-4dfa-bc70-7b7bf69f5457');\nvar x = new MutationObserver(function (mutations, observer) {{\n        var display = window.getComputedStyle(gd).display;\n        if (!display || display === 'none') {{\n            console.log([gd, 'removed!']);\n            Plotly.purge(gd);\n            observer.disconnect();\n        }}\n}});\n\n// Listen for the removal of the full notebook cells\nvar notebookContainer = gd.closest('#notebook-container');\nif (notebookContainer) {{\n    x.observe(notebookContainer, {childList: true});\n}}\n\n// Listen for the clearing of the current output cell\nvar outputEl = gd.closest('.output');\nif (outputEl) {{\n    x.observe(outputEl, {childList: true});\n}}\n\n                        })                };                });            </script>        </div>"
     },
     "metadata": {},
     "output_type": "display_data"
    }
   ],
   "source": [
    "from sklearn.preprocessing import RobustScaler\n",
    "\n",
    "# scale the data to the range [-1, 1] using Robustscaler\n",
    "scaler_u = RobustScaler()\n",
    "scaled_data_u = scaler_u.fit_transform(usual)\n",
    "\n",
    "# create a new DataFrame with the column names and their means\n",
    "column_sums = scaled_data_u.mean(axis=0)\n",
    "data_u = {'Column': usual.columns.tolist(), 'Mean': column_sums.tolist()}\n",
    "df2 = pd.DataFrame(data_u)\n",
    "\n",
    "# create the bar chart with Plotly\n",
    "fig = px.bar(df2, x='Column', y='Mean', title='Mean of Values in Each Column For Usual Transactions')\n",
    "fig.show()"
   ]
  },
  {
   "cell_type": "code",
   "execution_count": 51,
   "metadata": {
    "ExecuteTime": {
     "start_time": "2023-04-26T20:07:41.948033Z",
     "end_time": "2023-04-26T20:07:42.072516Z"
    }
   },
   "outputs": [],
   "source": [
    "fig.write_image('Mean of Values in Each Column For Usual Transactions.png')\n",
    "fig.write_html('Mean of Values in Each Column For Usual Transactions.html')"
   ]
  },
  {
   "cell_type": "code",
   "execution_count": 52,
   "metadata": {
    "ExecuteTime": {
     "start_time": "2023-04-26T20:07:42.074524Z",
     "end_time": "2023-04-26T20:07:42.116389Z"
    }
   },
   "outputs": [
    {
     "data": {
      "application/vnd.plotly.v1+json": {
       "data": [
        {
         "marker": {
          "color": "yellow"
         },
         "name": "Unusual Transactions",
         "x": [
          "Transaction Time",
          "PCA1",
          "PCA2",
          "PCA3",
          "PCA4",
          "PCA5",
          "PCA6",
          "PCA7",
          "PCA8",
          "PCA9",
          "PCA10",
          "PCA11",
          "PCA12",
          "PCA13",
          "PCA14",
          "PCA15",
          "PCA16",
          "PCA17",
          "PCA18",
          "PCA19",
          "PCA20",
          "PCA21",
          "PCA22",
          "PCA23",
          "PCA24",
          "PCA25",
          "PCA26",
          "PCA27",
          "PCA28",
          "Amount"
         ],
         "y": [
          0.08012690281336053,
          -0.4247260828628291,
          0.23023245876558998,
          -0.32218685893551985,
          0.09307034408201471,
          -0.3491234333494721,
          -0.005916271624189383,
          -0.37386230210984195,
          0.17933107523569905,
          -0.14063261969525925,
          -0.2034890645146482,
          0.05784171282392212,
          -0.11527343011363651,
          -0.018343766432654368,
          -0.04671823912284698,
          -0.026874744142534795,
          -0.13104832048675258,
          -0.1248329670407283,
          -0.15775984337279633,
          0.010924846170237807,
          0.12172772696627102,
          -0.09216309860168442,
          0.02763689056902916,
          -0.03404056982822141,
          -0.063152714068203,
          -0.047565963934255065,
          0.057187092964193026,
          -0.21624241513582698,
          -0.14400097107500343,
          1.0873473206703812
         ],
         "type": "bar"
        },
        {
         "marker": {
          "color": "blueviolet"
         },
         "name": "Usual Transactions",
         "x": [
          "Transaction Time",
          "PCA1",
          "PCA2",
          "PCA3",
          "PCA4",
          "PCA5",
          "PCA6",
          "PCA7",
          "PCA8",
          "PCA9",
          "PCA10",
          "PCA11",
          "PCA12",
          "PCA13",
          "PCA14",
          "PCA15",
          "PCA16",
          "PCA17",
          "PCA18",
          "PCA19",
          "PCA20",
          "PCA21",
          "PCA22",
          "PCA23",
          "PCA24",
          "PCA25",
          "PCA26",
          "PCA27",
          "PCA28",
          "Amount"
         ],
         "y": [
          0.11900156441894373,
          -0.004090581489654536,
          -0.05176620211682773,
          -0.08858458116741488,
          0.008865799141928763,
          0.04581578686861937,
          0.23636963708026656,
          -0.027843053549296434,
          -0.04515366810522349,
          0.04358167429664644,
          0.10100100695737041,
          0.01897030229786074,
          -0.12844292072498564,
          0.010427768230260426,
          -0.04348059094337538,
          -0.0391936192564292,
          -0.06097372506703816,
          0.0862378564544324,
          0.006562984151155128,
          -0.004508971081522857,
          0.18021150491740223,
          0.06921894911568184,
          -0.006382295875543134,
          0.03699839891990679,
          -0.05126433179567392,
          -0.024687505834847374,
          0.0923632730927815,
          2.529269308001426E-4,
          -0.08274597707122451,
          0.9251089950511852
         ],
         "type": "bar"
        }
       ],
       "layout": {
        "template": {
         "data": {
          "histogram2dcontour": [
           {
            "type": "histogram2dcontour",
            "colorbar": {
             "outlinewidth": 0,
             "ticks": ""
            },
            "colorscale": [
             [
              0.0,
              "#0d0887"
             ],
             [
              0.1111111111111111,
              "#46039f"
             ],
             [
              0.2222222222222222,
              "#7201a8"
             ],
             [
              0.3333333333333333,
              "#9c179e"
             ],
             [
              0.4444444444444444,
              "#bd3786"
             ],
             [
              0.5555555555555556,
              "#d8576b"
             ],
             [
              0.6666666666666666,
              "#ed7953"
             ],
             [
              0.7777777777777778,
              "#fb9f3a"
             ],
             [
              0.8888888888888888,
              "#fdca26"
             ],
             [
              1.0,
              "#f0f921"
             ]
            ]
           }
          ],
          "choropleth": [
           {
            "type": "choropleth",
            "colorbar": {
             "outlinewidth": 0,
             "ticks": ""
            }
           }
          ],
          "histogram2d": [
           {
            "type": "histogram2d",
            "colorbar": {
             "outlinewidth": 0,
             "ticks": ""
            },
            "colorscale": [
             [
              0.0,
              "#0d0887"
             ],
             [
              0.1111111111111111,
              "#46039f"
             ],
             [
              0.2222222222222222,
              "#7201a8"
             ],
             [
              0.3333333333333333,
              "#9c179e"
             ],
             [
              0.4444444444444444,
              "#bd3786"
             ],
             [
              0.5555555555555556,
              "#d8576b"
             ],
             [
              0.6666666666666666,
              "#ed7953"
             ],
             [
              0.7777777777777778,
              "#fb9f3a"
             ],
             [
              0.8888888888888888,
              "#fdca26"
             ],
             [
              1.0,
              "#f0f921"
             ]
            ]
           }
          ],
          "heatmap": [
           {
            "type": "heatmap",
            "colorbar": {
             "outlinewidth": 0,
             "ticks": ""
            },
            "colorscale": [
             [
              0.0,
              "#0d0887"
             ],
             [
              0.1111111111111111,
              "#46039f"
             ],
             [
              0.2222222222222222,
              "#7201a8"
             ],
             [
              0.3333333333333333,
              "#9c179e"
             ],
             [
              0.4444444444444444,
              "#bd3786"
             ],
             [
              0.5555555555555556,
              "#d8576b"
             ],
             [
              0.6666666666666666,
              "#ed7953"
             ],
             [
              0.7777777777777778,
              "#fb9f3a"
             ],
             [
              0.8888888888888888,
              "#fdca26"
             ],
             [
              1.0,
              "#f0f921"
             ]
            ]
           }
          ],
          "heatmapgl": [
           {
            "type": "heatmapgl",
            "colorbar": {
             "outlinewidth": 0,
             "ticks": ""
            },
            "colorscale": [
             [
              0.0,
              "#0d0887"
             ],
             [
              0.1111111111111111,
              "#46039f"
             ],
             [
              0.2222222222222222,
              "#7201a8"
             ],
             [
              0.3333333333333333,
              "#9c179e"
             ],
             [
              0.4444444444444444,
              "#bd3786"
             ],
             [
              0.5555555555555556,
              "#d8576b"
             ],
             [
              0.6666666666666666,
              "#ed7953"
             ],
             [
              0.7777777777777778,
              "#fb9f3a"
             ],
             [
              0.8888888888888888,
              "#fdca26"
             ],
             [
              1.0,
              "#f0f921"
             ]
            ]
           }
          ],
          "contourcarpet": [
           {
            "type": "contourcarpet",
            "colorbar": {
             "outlinewidth": 0,
             "ticks": ""
            }
           }
          ],
          "contour": [
           {
            "type": "contour",
            "colorbar": {
             "outlinewidth": 0,
             "ticks": ""
            },
            "colorscale": [
             [
              0.0,
              "#0d0887"
             ],
             [
              0.1111111111111111,
              "#46039f"
             ],
             [
              0.2222222222222222,
              "#7201a8"
             ],
             [
              0.3333333333333333,
              "#9c179e"
             ],
             [
              0.4444444444444444,
              "#bd3786"
             ],
             [
              0.5555555555555556,
              "#d8576b"
             ],
             [
              0.6666666666666666,
              "#ed7953"
             ],
             [
              0.7777777777777778,
              "#fb9f3a"
             ],
             [
              0.8888888888888888,
              "#fdca26"
             ],
             [
              1.0,
              "#f0f921"
             ]
            ]
           }
          ],
          "surface": [
           {
            "type": "surface",
            "colorbar": {
             "outlinewidth": 0,
             "ticks": ""
            },
            "colorscale": [
             [
              0.0,
              "#0d0887"
             ],
             [
              0.1111111111111111,
              "#46039f"
             ],
             [
              0.2222222222222222,
              "#7201a8"
             ],
             [
              0.3333333333333333,
              "#9c179e"
             ],
             [
              0.4444444444444444,
              "#bd3786"
             ],
             [
              0.5555555555555556,
              "#d8576b"
             ],
             [
              0.6666666666666666,
              "#ed7953"
             ],
             [
              0.7777777777777778,
              "#fb9f3a"
             ],
             [
              0.8888888888888888,
              "#fdca26"
             ],
             [
              1.0,
              "#f0f921"
             ]
            ]
           }
          ],
          "mesh3d": [
           {
            "type": "mesh3d",
            "colorbar": {
             "outlinewidth": 0,
             "ticks": ""
            }
           }
          ],
          "scatter": [
           {
            "marker": {
             "line": {
              "color": "#283442"
             }
            },
            "type": "scatter"
           }
          ],
          "parcoords": [
           {
            "type": "parcoords",
            "line": {
             "colorbar": {
              "outlinewidth": 0,
              "ticks": ""
             }
            }
           }
          ],
          "scatterpolargl": [
           {
            "type": "scatterpolargl",
            "marker": {
             "colorbar": {
              "outlinewidth": 0,
              "ticks": ""
             }
            }
           }
          ],
          "bar": [
           {
            "error_x": {
             "color": "#f2f5fa"
            },
            "error_y": {
             "color": "#f2f5fa"
            },
            "marker": {
             "line": {
              "color": "rgb(17,17,17)",
              "width": 0.5
             },
             "pattern": {
              "fillmode": "overlay",
              "size": 10,
              "solidity": 0.2
             }
            },
            "type": "bar"
           }
          ],
          "scattergeo": [
           {
            "type": "scattergeo",
            "marker": {
             "colorbar": {
              "outlinewidth": 0,
              "ticks": ""
             }
            }
           }
          ],
          "scatterpolar": [
           {
            "type": "scatterpolar",
            "marker": {
             "colorbar": {
              "outlinewidth": 0,
              "ticks": ""
             }
            }
           }
          ],
          "histogram": [
           {
            "marker": {
             "pattern": {
              "fillmode": "overlay",
              "size": 10,
              "solidity": 0.2
             }
            },
            "type": "histogram"
           }
          ],
          "scattergl": [
           {
            "marker": {
             "line": {
              "color": "#283442"
             }
            },
            "type": "scattergl"
           }
          ],
          "scatter3d": [
           {
            "type": "scatter3d",
            "line": {
             "colorbar": {
              "outlinewidth": 0,
              "ticks": ""
             }
            },
            "marker": {
             "colorbar": {
              "outlinewidth": 0,
              "ticks": ""
             }
            }
           }
          ],
          "scattermapbox": [
           {
            "type": "scattermapbox",
            "marker": {
             "colorbar": {
              "outlinewidth": 0,
              "ticks": ""
             }
            }
           }
          ],
          "scatterternary": [
           {
            "type": "scatterternary",
            "marker": {
             "colorbar": {
              "outlinewidth": 0,
              "ticks": ""
             }
            }
           }
          ],
          "scattercarpet": [
           {
            "type": "scattercarpet",
            "marker": {
             "colorbar": {
              "outlinewidth": 0,
              "ticks": ""
             }
            }
           }
          ],
          "carpet": [
           {
            "aaxis": {
             "endlinecolor": "#A2B1C6",
             "gridcolor": "#506784",
             "linecolor": "#506784",
             "minorgridcolor": "#506784",
             "startlinecolor": "#A2B1C6"
            },
            "baxis": {
             "endlinecolor": "#A2B1C6",
             "gridcolor": "#506784",
             "linecolor": "#506784",
             "minorgridcolor": "#506784",
             "startlinecolor": "#A2B1C6"
            },
            "type": "carpet"
           }
          ],
          "table": [
           {
            "cells": {
             "fill": {
              "color": "#506784"
             },
             "line": {
              "color": "rgb(17,17,17)"
             }
            },
            "header": {
             "fill": {
              "color": "#2a3f5f"
             },
             "line": {
              "color": "rgb(17,17,17)"
             }
            },
            "type": "table"
           }
          ],
          "barpolar": [
           {
            "marker": {
             "line": {
              "color": "rgb(17,17,17)",
              "width": 0.5
             },
             "pattern": {
              "fillmode": "overlay",
              "size": 10,
              "solidity": 0.2
             }
            },
            "type": "barpolar"
           }
          ],
          "pie": [
           {
            "automargin": true,
            "type": "pie"
           }
          ]
         },
         "layout": {
          "autotypenumbers": "strict",
          "colorway": [
           "#636efa",
           "#EF553B",
           "#00cc96",
           "#ab63fa",
           "#FFA15A",
           "#19d3f3",
           "#FF6692",
           "#B6E880",
           "#FF97FF",
           "#FECB52"
          ],
          "font": {
           "color": "#f2f5fa"
          },
          "hovermode": "closest",
          "hoverlabel": {
           "align": "left"
          },
          "paper_bgcolor": "rgb(17,17,17)",
          "plot_bgcolor": "rgb(17,17,17)",
          "polar": {
           "bgcolor": "rgb(17,17,17)",
           "angularaxis": {
            "gridcolor": "#506784",
            "linecolor": "#506784",
            "ticks": ""
           },
           "radialaxis": {
            "gridcolor": "#506784",
            "linecolor": "#506784",
            "ticks": ""
           }
          },
          "ternary": {
           "bgcolor": "rgb(17,17,17)",
           "aaxis": {
            "gridcolor": "#506784",
            "linecolor": "#506784",
            "ticks": ""
           },
           "baxis": {
            "gridcolor": "#506784",
            "linecolor": "#506784",
            "ticks": ""
           },
           "caxis": {
            "gridcolor": "#506784",
            "linecolor": "#506784",
            "ticks": ""
           }
          },
          "coloraxis": {
           "colorbar": {
            "outlinewidth": 0,
            "ticks": ""
           }
          },
          "colorscale": {
           "sequential": [
            [
             0.0,
             "#0d0887"
            ],
            [
             0.1111111111111111,
             "#46039f"
            ],
            [
             0.2222222222222222,
             "#7201a8"
            ],
            [
             0.3333333333333333,
             "#9c179e"
            ],
            [
             0.4444444444444444,
             "#bd3786"
            ],
            [
             0.5555555555555556,
             "#d8576b"
            ],
            [
             0.6666666666666666,
             "#ed7953"
            ],
            [
             0.7777777777777778,
             "#fb9f3a"
            ],
            [
             0.8888888888888888,
             "#fdca26"
            ],
            [
             1.0,
             "#f0f921"
            ]
           ],
           "sequentialminus": [
            [
             0.0,
             "#0d0887"
            ],
            [
             0.1111111111111111,
             "#46039f"
            ],
            [
             0.2222222222222222,
             "#7201a8"
            ],
            [
             0.3333333333333333,
             "#9c179e"
            ],
            [
             0.4444444444444444,
             "#bd3786"
            ],
            [
             0.5555555555555556,
             "#d8576b"
            ],
            [
             0.6666666666666666,
             "#ed7953"
            ],
            [
             0.7777777777777778,
             "#fb9f3a"
            ],
            [
             0.8888888888888888,
             "#fdca26"
            ],
            [
             1.0,
             "#f0f921"
            ]
           ],
           "diverging": [
            [
             0,
             "#8e0152"
            ],
            [
             0.1,
             "#c51b7d"
            ],
            [
             0.2,
             "#de77ae"
            ],
            [
             0.3,
             "#f1b6da"
            ],
            [
             0.4,
             "#fde0ef"
            ],
            [
             0.5,
             "#f7f7f7"
            ],
            [
             0.6,
             "#e6f5d0"
            ],
            [
             0.7,
             "#b8e186"
            ],
            [
             0.8,
             "#7fbc41"
            ],
            [
             0.9,
             "#4d9221"
            ],
            [
             1,
             "#276419"
            ]
           ]
          },
          "xaxis": {
           "gridcolor": "#283442",
           "linecolor": "#506784",
           "ticks": "",
           "title": {
            "standoff": 15
           },
           "zerolinecolor": "#283442",
           "automargin": true,
           "zerolinewidth": 2
          },
          "yaxis": {
           "gridcolor": "#283442",
           "linecolor": "#506784",
           "ticks": "",
           "title": {
            "standoff": 15
           },
           "zerolinecolor": "#283442",
           "automargin": true,
           "zerolinewidth": 2
          },
          "scene": {
           "xaxis": {
            "backgroundcolor": "rgb(17,17,17)",
            "gridcolor": "#506784",
            "linecolor": "#506784",
            "showbackground": true,
            "ticks": "",
            "zerolinecolor": "#C8D4E3",
            "gridwidth": 2
           },
           "yaxis": {
            "backgroundcolor": "rgb(17,17,17)",
            "gridcolor": "#506784",
            "linecolor": "#506784",
            "showbackground": true,
            "ticks": "",
            "zerolinecolor": "#C8D4E3",
            "gridwidth": 2
           },
           "zaxis": {
            "backgroundcolor": "rgb(17,17,17)",
            "gridcolor": "#506784",
            "linecolor": "#506784",
            "showbackground": true,
            "ticks": "",
            "zerolinecolor": "#C8D4E3",
            "gridwidth": 2
           }
          },
          "shapedefaults": {
           "line": {
            "color": "#f2f5fa"
           }
          },
          "annotationdefaults": {
           "arrowcolor": "#f2f5fa",
           "arrowhead": 0,
           "arrowwidth": 1
          },
          "geo": {
           "bgcolor": "rgb(17,17,17)",
           "landcolor": "rgb(17,17,17)",
           "subunitcolor": "#506784",
           "showland": true,
           "showlakes": true,
           "lakecolor": "rgb(17,17,17)"
          },
          "title": {
           "x": 0.05
          },
          "updatemenudefaults": {
           "bgcolor": "#506784",
           "borderwidth": 0
          },
          "sliderdefaults": {
           "bgcolor": "#C8D4E3",
           "borderwidth": 1,
           "bordercolor": "rgb(17,17,17)",
           "tickwidth": 0
          },
          "mapbox": {
           "style": "dark"
          }
         }
        },
        "title": {
         "text": "Comparison of Column Means"
        },
        "xaxis": {
         "title": {
          "text": "Columns"
         }
        },
        "yaxis": {
         "title": {
          "text": "Mean"
         }
        }
       },
       "config": {
        "plotlyServerURL": "https://plot.ly"
       }
      },
      "text/html": "<div>                            <div id=\"18c71eba-cfe1-4b5b-8d8e-3963ba0d54ba\" class=\"plotly-graph-div\" style=\"height:525px; width:100%;\"></div>            <script type=\"text/javascript\">                require([\"plotly\"], function(Plotly) {                    window.PLOTLYENV=window.PLOTLYENV || {};                                    if (document.getElementById(\"18c71eba-cfe1-4b5b-8d8e-3963ba0d54ba\")) {                    Plotly.newPlot(                        \"18c71eba-cfe1-4b5b-8d8e-3963ba0d54ba\",                        [{\"marker\":{\"color\":\"yellow\"},\"name\":\"Unusual Transactions\",\"x\":[\"Transaction Time\",\"PCA1\",\"PCA2\",\"PCA3\",\"PCA4\",\"PCA5\",\"PCA6\",\"PCA7\",\"PCA8\",\"PCA9\",\"PCA10\",\"PCA11\",\"PCA12\",\"PCA13\",\"PCA14\",\"PCA15\",\"PCA16\",\"PCA17\",\"PCA18\",\"PCA19\",\"PCA20\",\"PCA21\",\"PCA22\",\"PCA23\",\"PCA24\",\"PCA25\",\"PCA26\",\"PCA27\",\"PCA28\",\"Amount\"],\"y\":[0.08012690281336053,-0.4247260828628291,0.23023245876558998,-0.32218685893551985,0.09307034408201471,-0.3491234333494721,-0.005916271624189383,-0.37386230210984195,0.17933107523569905,-0.14063261969525925,-0.2034890645146482,0.05784171282392212,-0.11527343011363651,-0.018343766432654368,-0.04671823912284698,-0.026874744142534795,-0.13104832048675258,-0.1248329670407283,-0.15775984337279633,0.010924846170237807,0.12172772696627102,-0.09216309860168442,0.02763689056902916,-0.03404056982822141,-0.063152714068203,-0.047565963934255065,0.057187092964193026,-0.21624241513582698,-0.14400097107500343,1.0873473206703812],\"type\":\"bar\"},{\"marker\":{\"color\":\"blueviolet\"},\"name\":\"Usual Transactions\",\"x\":[\"Transaction Time\",\"PCA1\",\"PCA2\",\"PCA3\",\"PCA4\",\"PCA5\",\"PCA6\",\"PCA7\",\"PCA8\",\"PCA9\",\"PCA10\",\"PCA11\",\"PCA12\",\"PCA13\",\"PCA14\",\"PCA15\",\"PCA16\",\"PCA17\",\"PCA18\",\"PCA19\",\"PCA20\",\"PCA21\",\"PCA22\",\"PCA23\",\"PCA24\",\"PCA25\",\"PCA26\",\"PCA27\",\"PCA28\",\"Amount\"],\"y\":[0.11900156441894373,-0.004090581489654536,-0.05176620211682773,-0.08858458116741488,0.008865799141928763,0.04581578686861937,0.23636963708026656,-0.027843053549296434,-0.04515366810522349,0.04358167429664644,0.10100100695737041,0.01897030229786074,-0.12844292072498564,0.010427768230260426,-0.04348059094337538,-0.0391936192564292,-0.06097372506703816,0.0862378564544324,0.006562984151155128,-0.004508971081522857,0.18021150491740223,0.06921894911568184,-0.006382295875543134,0.03699839891990679,-0.05126433179567392,-0.024687505834847374,0.0923632730927815,0.0002529269308001426,-0.08274597707122451,0.9251089950511852],\"type\":\"bar\"}],                        {\"template\":{\"data\":{\"histogram2dcontour\":[{\"type\":\"histogram2dcontour\",\"colorbar\":{\"outlinewidth\":0,\"ticks\":\"\"},\"colorscale\":[[0.0,\"#0d0887\"],[0.1111111111111111,\"#46039f\"],[0.2222222222222222,\"#7201a8\"],[0.3333333333333333,\"#9c179e\"],[0.4444444444444444,\"#bd3786\"],[0.5555555555555556,\"#d8576b\"],[0.6666666666666666,\"#ed7953\"],[0.7777777777777778,\"#fb9f3a\"],[0.8888888888888888,\"#fdca26\"],[1.0,\"#f0f921\"]]}],\"choropleth\":[{\"type\":\"choropleth\",\"colorbar\":{\"outlinewidth\":0,\"ticks\":\"\"}}],\"histogram2d\":[{\"type\":\"histogram2d\",\"colorbar\":{\"outlinewidth\":0,\"ticks\":\"\"},\"colorscale\":[[0.0,\"#0d0887\"],[0.1111111111111111,\"#46039f\"],[0.2222222222222222,\"#7201a8\"],[0.3333333333333333,\"#9c179e\"],[0.4444444444444444,\"#bd3786\"],[0.5555555555555556,\"#d8576b\"],[0.6666666666666666,\"#ed7953\"],[0.7777777777777778,\"#fb9f3a\"],[0.8888888888888888,\"#fdca26\"],[1.0,\"#f0f921\"]]}],\"heatmap\":[{\"type\":\"heatmap\",\"colorbar\":{\"outlinewidth\":0,\"ticks\":\"\"},\"colorscale\":[[0.0,\"#0d0887\"],[0.1111111111111111,\"#46039f\"],[0.2222222222222222,\"#7201a8\"],[0.3333333333333333,\"#9c179e\"],[0.4444444444444444,\"#bd3786\"],[0.5555555555555556,\"#d8576b\"],[0.6666666666666666,\"#ed7953\"],[0.7777777777777778,\"#fb9f3a\"],[0.8888888888888888,\"#fdca26\"],[1.0,\"#f0f921\"]]}],\"heatmapgl\":[{\"type\":\"heatmapgl\",\"colorbar\":{\"outlinewidth\":0,\"ticks\":\"\"},\"colorscale\":[[0.0,\"#0d0887\"],[0.1111111111111111,\"#46039f\"],[0.2222222222222222,\"#7201a8\"],[0.3333333333333333,\"#9c179e\"],[0.4444444444444444,\"#bd3786\"],[0.5555555555555556,\"#d8576b\"],[0.6666666666666666,\"#ed7953\"],[0.7777777777777778,\"#fb9f3a\"],[0.8888888888888888,\"#fdca26\"],[1.0,\"#f0f921\"]]}],\"contourcarpet\":[{\"type\":\"contourcarpet\",\"colorbar\":{\"outlinewidth\":0,\"ticks\":\"\"}}],\"contour\":[{\"type\":\"contour\",\"colorbar\":{\"outlinewidth\":0,\"ticks\":\"\"},\"colorscale\":[[0.0,\"#0d0887\"],[0.1111111111111111,\"#46039f\"],[0.2222222222222222,\"#7201a8\"],[0.3333333333333333,\"#9c179e\"],[0.4444444444444444,\"#bd3786\"],[0.5555555555555556,\"#d8576b\"],[0.6666666666666666,\"#ed7953\"],[0.7777777777777778,\"#fb9f3a\"],[0.8888888888888888,\"#fdca26\"],[1.0,\"#f0f921\"]]}],\"surface\":[{\"type\":\"surface\",\"colorbar\":{\"outlinewidth\":0,\"ticks\":\"\"},\"colorscale\":[[0.0,\"#0d0887\"],[0.1111111111111111,\"#46039f\"],[0.2222222222222222,\"#7201a8\"],[0.3333333333333333,\"#9c179e\"],[0.4444444444444444,\"#bd3786\"],[0.5555555555555556,\"#d8576b\"],[0.6666666666666666,\"#ed7953\"],[0.7777777777777778,\"#fb9f3a\"],[0.8888888888888888,\"#fdca26\"],[1.0,\"#f0f921\"]]}],\"mesh3d\":[{\"type\":\"mesh3d\",\"colorbar\":{\"outlinewidth\":0,\"ticks\":\"\"}}],\"scatter\":[{\"marker\":{\"line\":{\"color\":\"#283442\"}},\"type\":\"scatter\"}],\"parcoords\":[{\"type\":\"parcoords\",\"line\":{\"colorbar\":{\"outlinewidth\":0,\"ticks\":\"\"}}}],\"scatterpolargl\":[{\"type\":\"scatterpolargl\",\"marker\":{\"colorbar\":{\"outlinewidth\":0,\"ticks\":\"\"}}}],\"bar\":[{\"error_x\":{\"color\":\"#f2f5fa\"},\"error_y\":{\"color\":\"#f2f5fa\"},\"marker\":{\"line\":{\"color\":\"rgb(17,17,17)\",\"width\":0.5},\"pattern\":{\"fillmode\":\"overlay\",\"size\":10,\"solidity\":0.2}},\"type\":\"bar\"}],\"scattergeo\":[{\"type\":\"scattergeo\",\"marker\":{\"colorbar\":{\"outlinewidth\":0,\"ticks\":\"\"}}}],\"scatterpolar\":[{\"type\":\"scatterpolar\",\"marker\":{\"colorbar\":{\"outlinewidth\":0,\"ticks\":\"\"}}}],\"histogram\":[{\"marker\":{\"pattern\":{\"fillmode\":\"overlay\",\"size\":10,\"solidity\":0.2}},\"type\":\"histogram\"}],\"scattergl\":[{\"marker\":{\"line\":{\"color\":\"#283442\"}},\"type\":\"scattergl\"}],\"scatter3d\":[{\"type\":\"scatter3d\",\"line\":{\"colorbar\":{\"outlinewidth\":0,\"ticks\":\"\"}},\"marker\":{\"colorbar\":{\"outlinewidth\":0,\"ticks\":\"\"}}}],\"scattermapbox\":[{\"type\":\"scattermapbox\",\"marker\":{\"colorbar\":{\"outlinewidth\":0,\"ticks\":\"\"}}}],\"scatterternary\":[{\"type\":\"scatterternary\",\"marker\":{\"colorbar\":{\"outlinewidth\":0,\"ticks\":\"\"}}}],\"scattercarpet\":[{\"type\":\"scattercarpet\",\"marker\":{\"colorbar\":{\"outlinewidth\":0,\"ticks\":\"\"}}}],\"carpet\":[{\"aaxis\":{\"endlinecolor\":\"#A2B1C6\",\"gridcolor\":\"#506784\",\"linecolor\":\"#506784\",\"minorgridcolor\":\"#506784\",\"startlinecolor\":\"#A2B1C6\"},\"baxis\":{\"endlinecolor\":\"#A2B1C6\",\"gridcolor\":\"#506784\",\"linecolor\":\"#506784\",\"minorgridcolor\":\"#506784\",\"startlinecolor\":\"#A2B1C6\"},\"type\":\"carpet\"}],\"table\":[{\"cells\":{\"fill\":{\"color\":\"#506784\"},\"line\":{\"color\":\"rgb(17,17,17)\"}},\"header\":{\"fill\":{\"color\":\"#2a3f5f\"},\"line\":{\"color\":\"rgb(17,17,17)\"}},\"type\":\"table\"}],\"barpolar\":[{\"marker\":{\"line\":{\"color\":\"rgb(17,17,17)\",\"width\":0.5},\"pattern\":{\"fillmode\":\"overlay\",\"size\":10,\"solidity\":0.2}},\"type\":\"barpolar\"}],\"pie\":[{\"automargin\":true,\"type\":\"pie\"}]},\"layout\":{\"autotypenumbers\":\"strict\",\"colorway\":[\"#636efa\",\"#EF553B\",\"#00cc96\",\"#ab63fa\",\"#FFA15A\",\"#19d3f3\",\"#FF6692\",\"#B6E880\",\"#FF97FF\",\"#FECB52\"],\"font\":{\"color\":\"#f2f5fa\"},\"hovermode\":\"closest\",\"hoverlabel\":{\"align\":\"left\"},\"paper_bgcolor\":\"rgb(17,17,17)\",\"plot_bgcolor\":\"rgb(17,17,17)\",\"polar\":{\"bgcolor\":\"rgb(17,17,17)\",\"angularaxis\":{\"gridcolor\":\"#506784\",\"linecolor\":\"#506784\",\"ticks\":\"\"},\"radialaxis\":{\"gridcolor\":\"#506784\",\"linecolor\":\"#506784\",\"ticks\":\"\"}},\"ternary\":{\"bgcolor\":\"rgb(17,17,17)\",\"aaxis\":{\"gridcolor\":\"#506784\",\"linecolor\":\"#506784\",\"ticks\":\"\"},\"baxis\":{\"gridcolor\":\"#506784\",\"linecolor\":\"#506784\",\"ticks\":\"\"},\"caxis\":{\"gridcolor\":\"#506784\",\"linecolor\":\"#506784\",\"ticks\":\"\"}},\"coloraxis\":{\"colorbar\":{\"outlinewidth\":0,\"ticks\":\"\"}},\"colorscale\":{\"sequential\":[[0.0,\"#0d0887\"],[0.1111111111111111,\"#46039f\"],[0.2222222222222222,\"#7201a8\"],[0.3333333333333333,\"#9c179e\"],[0.4444444444444444,\"#bd3786\"],[0.5555555555555556,\"#d8576b\"],[0.6666666666666666,\"#ed7953\"],[0.7777777777777778,\"#fb9f3a\"],[0.8888888888888888,\"#fdca26\"],[1.0,\"#f0f921\"]],\"sequentialminus\":[[0.0,\"#0d0887\"],[0.1111111111111111,\"#46039f\"],[0.2222222222222222,\"#7201a8\"],[0.3333333333333333,\"#9c179e\"],[0.4444444444444444,\"#bd3786\"],[0.5555555555555556,\"#d8576b\"],[0.6666666666666666,\"#ed7953\"],[0.7777777777777778,\"#fb9f3a\"],[0.8888888888888888,\"#fdca26\"],[1.0,\"#f0f921\"]],\"diverging\":[[0,\"#8e0152\"],[0.1,\"#c51b7d\"],[0.2,\"#de77ae\"],[0.3,\"#f1b6da\"],[0.4,\"#fde0ef\"],[0.5,\"#f7f7f7\"],[0.6,\"#e6f5d0\"],[0.7,\"#b8e186\"],[0.8,\"#7fbc41\"],[0.9,\"#4d9221\"],[1,\"#276419\"]]},\"xaxis\":{\"gridcolor\":\"#283442\",\"linecolor\":\"#506784\",\"ticks\":\"\",\"title\":{\"standoff\":15},\"zerolinecolor\":\"#283442\",\"automargin\":true,\"zerolinewidth\":2},\"yaxis\":{\"gridcolor\":\"#283442\",\"linecolor\":\"#506784\",\"ticks\":\"\",\"title\":{\"standoff\":15},\"zerolinecolor\":\"#283442\",\"automargin\":true,\"zerolinewidth\":2},\"scene\":{\"xaxis\":{\"backgroundcolor\":\"rgb(17,17,17)\",\"gridcolor\":\"#506784\",\"linecolor\":\"#506784\",\"showbackground\":true,\"ticks\":\"\",\"zerolinecolor\":\"#C8D4E3\",\"gridwidth\":2},\"yaxis\":{\"backgroundcolor\":\"rgb(17,17,17)\",\"gridcolor\":\"#506784\",\"linecolor\":\"#506784\",\"showbackground\":true,\"ticks\":\"\",\"zerolinecolor\":\"#C8D4E3\",\"gridwidth\":2},\"zaxis\":{\"backgroundcolor\":\"rgb(17,17,17)\",\"gridcolor\":\"#506784\",\"linecolor\":\"#506784\",\"showbackground\":true,\"ticks\":\"\",\"zerolinecolor\":\"#C8D4E3\",\"gridwidth\":2}},\"shapedefaults\":{\"line\":{\"color\":\"#f2f5fa\"}},\"annotationdefaults\":{\"arrowcolor\":\"#f2f5fa\",\"arrowhead\":0,\"arrowwidth\":1},\"geo\":{\"bgcolor\":\"rgb(17,17,17)\",\"landcolor\":\"rgb(17,17,17)\",\"subunitcolor\":\"#506784\",\"showland\":true,\"showlakes\":true,\"lakecolor\":\"rgb(17,17,17)\"},\"title\":{\"x\":0.05},\"updatemenudefaults\":{\"bgcolor\":\"#506784\",\"borderwidth\":0},\"sliderdefaults\":{\"bgcolor\":\"#C8D4E3\",\"borderwidth\":1,\"bordercolor\":\"rgb(17,17,17)\",\"tickwidth\":0},\"mapbox\":{\"style\":\"dark\"}}},\"title\":{\"text\":\"Comparison of Column Means\"},\"xaxis\":{\"title\":{\"text\":\"Columns\"}},\"yaxis\":{\"title\":{\"text\":\"Mean\"}}},                        {\"responsive\": true}                    ).then(function(){\n                            \nvar gd = document.getElementById('18c71eba-cfe1-4b5b-8d8e-3963ba0d54ba');\nvar x = new MutationObserver(function (mutations, observer) {{\n        var display = window.getComputedStyle(gd).display;\n        if (!display || display === 'none') {{\n            console.log([gd, 'removed!']);\n            Plotly.purge(gd);\n            observer.disconnect();\n        }}\n}});\n\n// Listen for the removal of the full notebook cells\nvar notebookContainer = gd.closest('#notebook-container');\nif (notebookContainer) {{\n    x.observe(notebookContainer, {childList: true});\n}}\n\n// Listen for the clearing of the current output cell\nvar outputEl = gd.closest('.output');\nif (outputEl) {{\n    x.observe(outputEl, {childList: true});\n}}\n\n                        })                };                });            </script>        </div>"
     },
     "metadata": {},
     "output_type": "display_data"
    }
   ],
   "source": [
    "\n",
    "\n",
    "fig = go.Figure()\n",
    "\n",
    "# add the first bar chart to the figure\n",
    "fig.add_trace(go.Bar(x=df['Column'], y=df['Mean'],\n",
    "                     name='Unusual Transactions',\n",
    "                     marker_color='yellow'))\n",
    "\n",
    "# add the second bar chart to the figure\n",
    "fig.add_trace(go.Bar(x=df2['Column'], y=df2['Mean'],\n",
    "                     name='Usual Transactions',\n",
    "                     marker_color='blueviolet'))\n",
    "\n",
    "# set the title and axis labels\n",
    "fig.update_layout(title='Comparison of Column Means',\n",
    "                  xaxis_title='Columns',\n",
    "                  yaxis_title='Mean')\n",
    "\n",
    "# show the figure\n",
    "fig.show()\n"
   ]
  },
  {
   "cell_type": "code",
   "execution_count": 53,
   "metadata": {
    "ExecuteTime": {
     "start_time": "2023-04-26T20:07:42.102903Z",
     "end_time": "2023-04-26T20:07:42.156057Z"
    }
   },
   "outputs": [],
   "source": [
    "\n",
    "# fig.write_image('Columns Comparison.png')\n",
    "fig.write_html('Columns Comparison.html')"
   ]
  },
  {
   "cell_type": "code",
   "execution_count": 53,
   "outputs": [],
   "source": [],
   "metadata": {
    "collapsed": false,
    "ExecuteTime": {
     "start_time": "2023-04-26T20:07:42.152023Z",
     "end_time": "2023-04-26T20:07:42.168049Z"
    }
   }
  },
  {
   "cell_type": "code",
   "execution_count": 53,
   "outputs": [],
   "source": [],
   "metadata": {
    "collapsed": false,
    "ExecuteTime": {
     "start_time": "2023-04-26T20:07:42.168049Z",
     "end_time": "2023-04-26T20:07:42.225308Z"
    }
   }
  },
  {
   "cell_type": "code",
   "execution_count": 53,
   "outputs": [],
   "source": [],
   "metadata": {
    "collapsed": false,
    "ExecuteTime": {
     "start_time": "2023-04-26T20:07:42.183883Z",
     "end_time": "2023-04-26T20:07:42.240857Z"
    }
   }
  },
  {
   "cell_type": "code",
   "execution_count": 54,
   "outputs": [],
   "source": [
    "# from sklearn.ensemble import IsolationForest\n",
    "# trx = pd.read_csv(r'C:\\Users\\crazy\\Downloads\\Online_transaction.csv')\n",
    "# trx.drop_duplicates(inplace=True)\n",
    "# trx = trx.reset_index()\n",
    "# trx.rename({'Transaction Time':'Transaction_Time'}, axis = 1, inplace = True)\n",
    "# trx.replace(\"Normal\",0,inplace=True)\n",
    "# trx.replace(\"Unusual\",1,inplace=True)\n",
    "#\n",
    "# iso = IsolationForest(max_samples=100, random_state = 1, contamination= 'auto')\n",
    "# out = iso.fit_predict(trx)\n",
    "# trx['outlier'] = out\n",
    "#\n",
    "# outlist=list(trx[trx['outlier']==-1].index)\n",
    "# trx.drop(columns=['index'],inplace=True)\n",
    "# trx.drop(outlist,inplace=True)\n",
    "# trx.drop(columns=['outlier'],inplace=True)\n",
    "# trx.reset_index(drop=True,inplace=True)\n",
    "# X,y = trx[trx.columns.drop(['Type_of_Transaction'])] ,trx['Type_of_Transaction']"
   ],
   "metadata": {
    "collapsed": false,
    "ExecuteTime": {
     "start_time": "2023-04-26T20:07:42.204273Z",
     "end_time": "2023-04-26T20:07:42.240857Z"
    }
   }
  },
  {
   "cell_type": "code",
   "execution_count": 54,
   "outputs": [],
   "source": [],
   "metadata": {
    "collapsed": false,
    "ExecuteTime": {
     "start_time": "2023-04-26T20:07:42.215787Z",
     "end_time": "2023-04-26T20:07:42.242357Z"
    }
   }
  },
  {
   "cell_type": "code",
   "execution_count": 55,
   "outputs": [],
   "source": [
    "# import matplotlib.pyplot as plt\n",
    "# from mlxtend.feature_selection import SequentialFeatureSelector as SFS\n",
    "# from mlxtend.plotting import plot_sequential_feature_selection as plot_sfs\n",
    "# from sklearn.linear_model import LinearRegression\n",
    "# from sklearn.neighbors import KNeighborsClassifier\n",
    "# knn=KNeighborsClassifier(n_neighbors=3)\n",
    "# sfs = SFS(knn,\n",
    "#           k_features='best',\n",
    "#           forward=True,\n",
    "#           floating=False,\n",
    "#           n_jobs=-1,\n",
    "#           cv=5)\n",
    "# sfs = sfs.fit(X, y)\n",
    "# fig = plot_sfs(sfs.get_metric_dict(), kind='std_err')\n",
    "# plt.title('Sequential Forward Selection (w. StdErr)')\n",
    "# plt.grid()\n",
    "# plt.show()\n",
    "#\n",
    "# sfs.k_feature_names_\n",
    "#\n",
    "# # Where X and y  in the line\n",
    "# # sfs = sfs.fit(X, y)"
   ],
   "metadata": {
    "collapsed": false,
    "ExecuteTime": {
     "start_time": "2023-04-26T20:07:42.230816Z",
     "end_time": "2023-04-26T20:07:42.243355Z"
    }
   }
  },
  {
   "cell_type": "code",
   "execution_count": 60,
   "outputs": [],
   "source": [
    "\n",
    "X,y = onlinetransaction[onlinetransaction.columns.drop(['Type_of_Transaction'])] ,onlinetransaction['Type_of_Transaction']"
   ],
   "metadata": {
    "collapsed": false,
    "ExecuteTime": {
     "start_time": "2023-04-26T20:26:14.275236Z",
     "end_time": "2023-04-26T20:26:14.330807Z"
    }
   }
  },
  {
   "cell_type": "code",
   "execution_count": 61,
   "outputs": [
    {
     "data": {
      "text/plain": "array([[-0.99529046, -0.61835994, -0.09762245, ...,  0.81606802,\n        -0.24669798,  1.7747184 ],\n       [-0.99529046,  0.52484903,  0.14436744, ..., -0.06463861,\n         0.02621448, -0.26853011],\n       [-0.99527871, -0.61770893, -1.0025052 , ..., -0.35113837,\n        -0.54189647,  4.95981087],\n       ...,\n       [ 1.03528188,  0.85088025, -0.26074691, ...,  0.0183886 ,\n        -0.28871189,  0.63801975],\n       [ 1.03528188, -0.11685568,  0.33309452, ...,  0.66322404,\n         0.71128445, -0.16687526],\n       [ 1.03532889, -0.24811462, -0.18112372, ..., -0.02405887,\n         0.01801232,  2.71172299]])"
     },
     "execution_count": 61,
     "metadata": {},
     "output_type": "execute_result"
    }
   ],
   "source": [
    "from sklearn.preprocessing import RobustScaler\n",
    "scaler_o = RobustScaler()\n",
    "scl = scaler_o.fit_transform(X)\n",
    "scl\n"
   ],
   "metadata": {
    "collapsed": false,
    "ExecuteTime": {
     "start_time": "2023-04-26T20:26:16.489106Z",
     "end_time": "2023-04-26T20:26:16.837080Z"
    }
   }
  },
  {
   "cell_type": "code",
   "execution_count": 57,
   "outputs": [],
   "source": [],
   "metadata": {
    "collapsed": false,
    "ExecuteTime": {
     "start_time": "2023-04-26T20:07:42.368782Z",
     "end_time": "2023-04-26T20:07:42.394493Z"
    }
   }
  }
 ],
 "metadata": {
  "kernelspec": {
   "display_name": "Python 3 (ipykernel)",
   "language": "python",
   "name": "python3"
  },
  "language_info": {
   "codemirror_mode": {
    "name": "ipython",
    "version": 3
   },
   "file_extension": ".py",
   "mimetype": "text/x-python",
   "name": "python",
   "nbconvert_exporter": "python",
   "pygments_lexer": "ipython3",
   "version": "3.10.6"
  }
 },
 "nbformat": 4,
 "nbformat_minor": 1
}
